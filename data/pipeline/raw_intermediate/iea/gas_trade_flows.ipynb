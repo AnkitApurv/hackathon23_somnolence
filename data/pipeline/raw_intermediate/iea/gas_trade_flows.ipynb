{
 "cells": [
  {
   "cell_type": "code",
   "execution_count": 1,
   "metadata": {},
   "outputs": [],
   "source": [
    "import pandas"
   ]
  },
  {
   "cell_type": "code",
   "execution_count": 2,
   "metadata": {},
   "outputs": [],
   "source": [
    "df: pandas.DataFrame = pandas.read_excel(\n",
    "    io = '../../../raw/third_party/iea/gas_trade_flows.xlsx',\n",
    "    sheet_name = 'Data', skipfooter = 14\n",
    ")"
   ]
  },
  {
   "cell_type": "code",
   "execution_count": 3,
   "metadata": {},
   "outputs": [],
   "source": [
    "df = df.drop(columns = ['Borderpoint', 'Unnamed: 2', 'MAXFLOW (Mm3/h)'], inplace = False)"
   ]
  },
  {
   "cell_type": "code",
   "execution_count": 5,
   "metadata": {},
   "outputs": [],
   "source": [
    "df_aggregate = df.groupby(\n",
    "    by = ['Exit', 'Entry'], axis = 'index'\n",
    ").sum().reset_index(drop = False, inplace = False)"
   ]
  },
  {
   "cell_type": "code",
   "execution_count": 6,
   "metadata": {},
   "outputs": [],
   "source": [
    "df_total_export: pandas.DataFrame = df_aggregate.drop(columns = ['Entry'], inplace = False)\n",
    "\n",
    "df_total_export = df_total_export.groupby(\n",
    "    by = ['Exit'], axis = 'index'\n",
    ").sum().reset_index(drop = False, inplace = False)"
   ]
  },
  {
   "cell_type": "code",
   "execution_count": 7,
   "metadata": {},
   "outputs": [],
   "source": [
    "df_total_import: pandas.DataFrame = df_aggregate.drop(columns = ['Exit'], inplace = False)\n",
    "\n",
    "df_total_import = df_total_import.groupby(\n",
    "    by = ['Entry'], axis = 'index'\n",
    ").sum().reset_index(drop = False, inplace = False)"
   ]
  },
  {
   "cell_type": "code",
   "execution_count": 8,
   "metadata": {},
   "outputs": [
    {
     "data": {
      "text/plain": [
       "array(['Albania', 'Austria', 'Belgium', 'Bulgaria', 'Croatia',\n",
       "       'Czech Republic', 'Denmark', 'Estonia', 'Finland', 'France',\n",
       "       'Germany', 'Greece', 'Hungary', 'Ireland', 'Isle of Man', 'Italy',\n",
       "       'Latvia', 'Liquefied Natural Gas', 'Lithuania', 'Luxembourg',\n",
       "       'Moldova', 'Morocco', 'Netherlands', 'North Macedonia', 'Norway',\n",
       "       'Poland', 'Portugal', 'Republic of Türkiye', 'Romania', 'Russia',\n",
       "       'Serbia', 'Slovak Republic', 'Slovenia', 'Spain', 'Sweden',\n",
       "       'Switzerland', 'Tunisia', 'Ukraine', 'United Kingdom'],\n",
       "      dtype=object)"
      ]
     },
     "execution_count": 8,
     "metadata": {},
     "output_type": "execute_result"
    }
   ],
   "source": [
    "df_total_import['Entry'].unique()"
   ]
  },
  {
   "cell_type": "code",
   "execution_count": 9,
   "metadata": {},
   "outputs": [
    {
     "data": {
      "text/plain": [
       "array(['Albania', 'Algeria', 'Austria', 'Belarus', 'Belgium', 'Bulgaria',\n",
       "       'Croatia', 'Czech Republic', 'Denmark', 'Estonia', 'Finland',\n",
       "       'France', 'Georgia', 'Germany', 'Greece', 'Hungary', 'Iran',\n",
       "       'Italy', 'Latvia', 'Libya', 'Liquefied Natural Gas', 'Lithuania',\n",
       "       'Morocco', 'Netherlands', 'Norway', 'Not Elsewhere Specified',\n",
       "       'Poland', 'Portugal', 'Republic of Türkiye', 'Romania', 'Russia',\n",
       "       'Serbia', 'Slovak Republic', 'Slovenia', 'Spain', 'Switzerland',\n",
       "       'Tunisia', 'Ukraine', 'United Kingdom'], dtype=object)"
      ]
     },
     "execution_count": 9,
     "metadata": {},
     "output_type": "execute_result"
    }
   ],
   "source": [
    "df_total_export['Exit'].unique()"
   ]
  },
  {
   "cell_type": "code",
   "execution_count": 20,
   "metadata": {},
   "outputs": [],
   "source": [
    "g7_gas_importers: list[str] = ['France', 'Germany', 'Italy', 'United Kingdom']\n",
    "g7_folder_location: list[str] = ['france', 'germany', 'italy', 'uk']"
   ]
  },
  {
   "cell_type": "code",
   "execution_count": 11,
   "metadata": {},
   "outputs": [],
   "source": [
    "df_total_export = df_total_export[df_total_export['Exit'].isin(g7_gas_importers)]\n",
    "df_total_import = df_total_import[df_total_import['Entry'].isin(g7_gas_importers)]"
   ]
  },
  {
   "cell_type": "code",
   "execution_count": 17,
   "metadata": {},
   "outputs": [],
   "source": [
    "df_total_import['Trade_Direction'] = 'Import'\n",
    "df_total_export['Trade_Direction'] = 'Export'\n",
    "\n",
    "df_total_import = df_total_import.rename(columns = {'Entry': 'Country'}, inplace = False)\n",
    "df_total_export = df_total_export.rename(columns = {'Exit': 'Country'}, inplace = False)\n",
    "\n",
    "df_gas_trade_balance = pandas.concat(\n",
    "    objs = [df_total_import, df_total_export], \n",
    "    axis = 'index', ignore_index = True\n",
    ")\n",
    "\n",
    "# relocate column to just after country names\n",
    "trade_direction = df_gas_trade_balance.pop('Trade_Direction')\n",
    "df_gas_trade_balance.insert(loc = 1, column = 'Trade_Direction', value = trade_direction)"
   ]
  },
  {
   "cell_type": "code",
   "execution_count": 21,
   "metadata": {},
   "outputs": [],
   "source": [
    "save_path = '../../../intermediate/'\n",
    "\n",
    "for country_folder_name, country_name in zip(g7_folder_location, g7_gas_importers):\n",
    "    df_country = df_gas_trade_balance[df_gas_trade_balance['Country'].isin([country_name])]\n",
    "    df_country = df_country.drop(columns = ['Country'], inplace = False)\n",
    "    df_country.to_csv(\n",
    "        path_or_buf = f'{save_path}{country_folder_name}/gas_trade_balance.csv', index = False\n",
    "    )\n"
   ]
  },
  {
   "cell_type": "code",
   "execution_count": null,
   "metadata": {},
   "outputs": [],
   "source": []
  }
 ],
 "metadata": {
  "kernelspec": {
   "display_name": "env-hackathon23_somnolence",
   "language": "python",
   "name": "python3"
  },
  "language_info": {
   "codemirror_mode": {
    "name": "ipython",
    "version": 3
   },
   "file_extension": ".py",
   "mimetype": "text/x-python",
   "name": "python",
   "nbconvert_exporter": "python",
   "pygments_lexer": "ipython3",
   "version": "3.11.3"
  },
  "orig_nbformat": 4
 },
 "nbformat": 4,
 "nbformat_minor": 2
}
