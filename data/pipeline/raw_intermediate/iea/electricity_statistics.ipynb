{
 "cells": [
  {
   "cell_type": "code",
   "execution_count": 1,
   "metadata": {},
   "outputs": [],
   "source": [
    "import pathlib\n",
    "import pandas"
   ]
  },
  {
   "cell_type": "code",
   "execution_count": 2,
   "metadata": {},
   "outputs": [],
   "source": [
    "file_path = pathlib.Path('../../../raw/third_party/iea/monthly_electricity_statistics.xlsx')\n",
    "\n",
    "df_iea_monthly_electricity_statistics: pandas.DataFrame = pandas.read_excel(\n",
    "    io = file_path, header = 8,\n",
    ")"
   ]
  },
  {
   "cell_type": "code",
   "execution_count": 3,
   "metadata": {},
   "outputs": [],
   "source": [
    "g7: list[str] = ['Canada', 'France', 'Germany', 'Italy', 'Japan', 'United Kingdom', 'United States']"
   ]
  },
  {
   "cell_type": "code",
   "execution_count": 4,
   "metadata": {},
   "outputs": [],
   "source": [
    "datasets: dict[str, pandas.DataFrame] = {}"
   ]
  },
  {
   "cell_type": "code",
   "execution_count": 6,
   "metadata": {},
   "outputs": [],
   "source": [
    "for country in g7:\n",
    "    df_by_country = df_iea_monthly_electricity_statistics[df_iea_monthly_electricity_statistics['Country'].isin([country])]\n",
    "    df_by_country = df_by_country.drop(columns = ['Country'], inplace = False)\n",
    "    datasets[country] = df_by_country"
   ]
  },
  {
   "cell_type": "code",
   "execution_count": 7,
   "metadata": {},
   "outputs": [],
   "source": [
    "save_path = '../../../intermediate/'\n",
    "\n",
    "country_folder = {\n",
    "    'Canada': 'canada', \n",
    "    'France': 'france', \n",
    "    'Germany': 'germany', \n",
    "    'Italy': 'italy', \n",
    "    'Japan': 'japan', \n",
    "    'United Kingdom': 'uk', \n",
    "    'United States': 'usa'\n",
    "}\n",
    "\n",
    "for country, df in datasets.items():\n",
    "    df.to_csv(\n",
    "        path_or_buf = f'{save_path}{country_folder[country]}/monthly_electricity_statistics.csv', index = False\n",
    "    )"
   ]
  },
  {
   "cell_type": "code",
   "execution_count": null,
   "metadata": {},
   "outputs": [],
   "source": []
  }
 ],
 "metadata": {
  "kernelspec": {
   "display_name": "env-hackathon23_somnolence",
   "language": "python",
   "name": "python3"
  },
  "language_info": {
   "codemirror_mode": {
    "name": "ipython",
    "version": 3
   },
   "file_extension": ".py",
   "mimetype": "text/x-python",
   "name": "python",
   "nbconvert_exporter": "python",
   "pygments_lexer": "ipython3",
   "version": "3.11.3"
  },
  "orig_nbformat": 4
 },
 "nbformat": 4,
 "nbformat_minor": 2
}
