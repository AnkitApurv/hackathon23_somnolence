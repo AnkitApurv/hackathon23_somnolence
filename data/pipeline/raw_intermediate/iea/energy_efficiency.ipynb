{
 "cells": [
  {
   "cell_type": "code",
   "execution_count": 1,
   "metadata": {},
   "outputs": [],
   "source": [
    "import pathlib\n",
    "import pandas"
   ]
  },
  {
   "cell_type": "code",
   "execution_count": 11,
   "metadata": {},
   "outputs": [],
   "source": [
    "file_path = pathlib.Path('../../../raw/third_party/iea/energy_efficiency_highlights.xlsm')\n",
    "\n",
    "# energy sinks\n",
    "df_iea_energy_efficiency_sink_residential: pandas.DataFrame = pandas.read_excel(\n",
    "    io = file_path, sheet_name = 'Residential - Energy', header = 1,\n",
    ")\n",
    "\n",
    "df_iea_energy_efficiency_sink_services: pandas.DataFrame = pandas.read_excel(\n",
    "    io = file_path, sheet_name = 'Services - Energy', header = 1,\n",
    ")\n",
    "\n",
    "df_iea_energy_efficiency_sink_industry: pandas.DataFrame = pandas.read_excel(\n",
    "    io = file_path, sheet_name = 'Industry - Energy', header = 1,\n",
    ")\n",
    "\n",
    "df_iea_energy_efficiency_sink_transport: pandas.DataFrame = pandas.read_excel(\n",
    "    io = file_path, sheet_name = 'Transport - Energy', header = 1,\n",
    ")\n",
    "\n",
    "# activity-wise expenditure\n",
    "df_iea_energy_efficiency_activity_wise_expenditure: pandas.DataFrame = pandas.read_excel(\n",
    "    io = file_path, sheet_name = 'Activity data', header = 1,\n",
    ")\n",
    "\n",
    "# sector-wise usage\n",
    "df_iea_energy_efficiency_usage_residential: pandas.DataFrame = pandas.read_excel(\n",
    "    io = file_path, sheet_name = 'Residential - Energy Indicators', header = 1,\n",
    ")\n",
    "\n",
    "df_iea_energy_efficiency_usage_services: pandas.DataFrame = pandas.read_excel(\n",
    "    io = file_path, sheet_name = 'Services - Energy Indicators', header = 1,\n",
    ")\n",
    "\n",
    "df_iea_energy_efficiency_usage_industry: pandas.DataFrame = pandas.read_excel(\n",
    "    io = file_path, sheet_name = 'Industry - Energy Indicators', header = 1,\n",
    ")\n",
    "\n",
    "df_iea_energy_efficiency_usage_transport: pandas.DataFrame = pandas.read_excel(\n",
    "    io = file_path, sheet_name = 'Transport - Energy Indicators', header = 1,\n",
    ")\n",
    "\n",
    "# energy usage decomposition\n",
    "df_iea_energy_efficiency_energy_usage_decomposition: pandas.DataFrame = pandas.read_excel(\n",
    "    io = file_path, sheet_name = 'Energy Decomposition data', header = 1,\n",
    ")"
   ]
  },
  {
   "cell_type": "code",
   "execution_count": 28,
   "metadata": {},
   "outputs": [],
   "source": [
    "g7: list[str] = ['Canada', 'France', 'Germany', 'Italy', 'Japan', 'United Kingdom', 'United States']\n",
    "dataset: list[pandas.DataFrame] = [\n",
    "    df_iea_energy_efficiency_sink_residential, df_iea_energy_efficiency_sink_services,\n",
    "    df_iea_energy_efficiency_sink_industry, df_iea_energy_efficiency_sink_transport,\n",
    "    df_iea_energy_efficiency_activity_wise_expenditure,\n",
    "    df_iea_energy_efficiency_usage_residential, df_iea_energy_efficiency_usage_services,\n",
    "    df_iea_energy_efficiency_usage_industry, df_iea_energy_efficiency_usage_transport,\n",
    "    df_iea_energy_efficiency_energy_usage_decomposition\n",
    "]"
   ]
  },
  {
   "cell_type": "code",
   "execution_count": 29,
   "metadata": {},
   "outputs": [],
   "source": [
    "datasets: dict[str, list[pandas.DataFrame]] = {}"
   ]
  },
  {
   "cell_type": "code",
   "execution_count": 30,
   "metadata": {},
   "outputs": [],
   "source": [
    "for country in g7:\n",
    "    dfs: list[pandas.DataFrame] = []\n",
    "    for df in dataset:\n",
    "        df_by_country = df[df['Country'].isin([country])]\n",
    "        df_by_country = df_by_country.drop(columns = ['Country'], inplace = False)\n",
    "        dfs.append(df_by_country)\n",
    "    datasets[country] = dfs"
   ]
  },
  {
   "cell_type": "code",
   "execution_count": 32,
   "metadata": {},
   "outputs": [],
   "source": [
    "save_path = '../../../intermediate/'\n",
    "\n",
    "country_folder = {\n",
    "    'Canada': 'canada', \n",
    "    'France': 'france', \n",
    "    'Germany': 'germany', \n",
    "    'Italy': 'italy', \n",
    "    'Japan': 'japan', \n",
    "    'United Kingdom': 'uk', \n",
    "    'United States': 'usa'\n",
    "}\n",
    "\n",
    "file_names: list[str] = ['iea_energy_efficiency_sink_residential.csv', 'iea_energy_efficiency_sink_services.csv',\n",
    "    'iea_energy_efficiency_sink_industry.csv', 'iea_energy_efficiency_sink_transport.csv',\n",
    "    'iea_energy_efficiency_activity_wise_expenditure.csv',\n",
    "    'iea_energy_efficiency_usage_residential.csv', 'iea_energy_efficiency_usage_services.csv',\n",
    "    'iea_energy_efficiency_usage_industry.csv', 'iea_energy_efficiency_usage_transport.csv',\n",
    "    'iea_energy_efficiency_energy_usage_decomposition.csv'\n",
    "]\n",
    "\n",
    "for country, dfs in datasets.items():\n",
    "    for index, df in enumerate(dfs):\n",
    "        df.to_csv(\n",
    "            path_or_buf = f'{save_path}{country_folder[country]}/{file_names[index]}', index = False\n",
    "        )"
   ]
  },
  {
   "cell_type": "code",
   "execution_count": null,
   "metadata": {},
   "outputs": [],
   "source": []
  }
 ],
 "metadata": {
  "kernelspec": {
   "display_name": "env-hackathon23_somnolence",
   "language": "python",
   "name": "python3"
  },
  "language_info": {
   "codemirror_mode": {
    "name": "ipython",
    "version": 3
   },
   "file_extension": ".py",
   "mimetype": "text/x-python",
   "name": "python",
   "nbconvert_exporter": "python",
   "pygments_lexer": "ipython3",
   "version": "3.11.3"
  },
  "orig_nbformat": 4
 },
 "nbformat": 4,
 "nbformat_minor": 2
}
