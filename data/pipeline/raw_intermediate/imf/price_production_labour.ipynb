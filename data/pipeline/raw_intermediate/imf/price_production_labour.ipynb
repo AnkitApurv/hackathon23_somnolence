{
 "cells": [
  {
   "cell_type": "code",
   "execution_count": 1,
   "metadata": {},
   "outputs": [],
   "source": [
    "import pandas"
   ]
  },
  {
   "cell_type": "code",
   "execution_count": 2,
   "metadata": {},
   "outputs": [],
   "source": [
    "g7: list[str] = ['Canada', 'France', 'Germany', 'Italy', 'Japan', 'UK', 'USA']"
   ]
  },
  {
   "cell_type": "code",
   "execution_count": 3,
   "metadata": {},
   "outputs": [],
   "source": [
    "save_path = '../../../intermediate/'\n",
    "\n",
    "for country in g7:\n",
    "    df: pandas.DataFrame = pandas.read_excel(\n",
    "        io = f'../../../raw/third_party/imf/prices_production_and_labour/Prices_Production_and_Labor_{country}.xlsx',\n",
    "        sheet_name = 'Monthly',\n",
    "        header = 7, index_col = 0,\n",
    "    ).reset_index(drop = True, inplace = False)\n",
    "\n",
    "    df_prices = df.iloc[1:5, :].drop(columns = ['Unnamed: 2', 'Scale'], inplace = False).rename(columns = {'Unnamed: 3': 'Indicator_Code'})\n",
    "    df_production = df.iloc[6:10, :].drop(columns = ['Unnamed: 2', 'Scale'], inplace = False).rename(columns = {'Unnamed: 3': 'Indicator_Code'})\n",
    "    df_labour = df.iloc[11:15, :].drop(columns = ['Unnamed: 2', 'Scale', 'Base Year'], inplace = False).rename(columns = {'Unnamed: 3': 'Indicator_Code'})\n",
    "\n",
    "    df_prices.to_csv(\n",
    "        path_or_buf = f'{save_path}{country.lower()}/imf_prices.csv', \n",
    "        index = False\n",
    "    )\n",
    "    df_production.to_csv(\n",
    "        path_or_buf = f'{save_path}{country.lower()}/imf_production.csv', \n",
    "        index = False\n",
    "    )\n",
    "    df_labour.to_csv(\n",
    "        path_or_buf = f'{save_path}{country.lower()}/imf_labour.csv', \n",
    "        index = False\n",
    "    )"
   ]
  },
  {
   "cell_type": "code",
   "execution_count": null,
   "metadata": {},
   "outputs": [],
   "source": []
  }
 ],
 "metadata": {
  "kernelspec": {
   "display_name": "env-hackathon23_somnolence",
   "language": "python",
   "name": "python3"
  },
  "language_info": {
   "codemirror_mode": {
    "name": "ipython",
    "version": 3
   },
   "file_extension": ".py",
   "mimetype": "text/x-python",
   "name": "python",
   "nbconvert_exporter": "python",
   "pygments_lexer": "ipython3",
   "version": "3.11.3"
  },
  "orig_nbformat": 4
 },
 "nbformat": 4,
 "nbformat_minor": 2
}
