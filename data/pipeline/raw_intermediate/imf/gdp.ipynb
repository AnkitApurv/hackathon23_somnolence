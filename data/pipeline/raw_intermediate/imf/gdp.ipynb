{
 "cells": [
  {
   "cell_type": "code",
   "execution_count": 1,
   "metadata": {},
   "outputs": [],
   "source": [
    "import pandas"
   ]
  },
  {
   "cell_type": "code",
   "execution_count": 2,
   "metadata": {},
   "outputs": [],
   "source": [
    "g7: list[str] = ['Canada', 'France', 'Germany', 'Italy', 'Japan', 'UK', 'USA']"
   ]
  },
  {
   "cell_type": "code",
   "execution_count": 3,
   "metadata": {},
   "outputs": [],
   "source": [
    "save_path = '../../../intermediate/'\n",
    "\n",
    "for country in g7:\n",
    "    df: pandas.DataFrame = pandas.read_excel(\n",
    "        io = f'../../../raw/third_party/imf/gross_domestic_product/GDP_and_Components_{country}.xlsx',\n",
    "        sheet_name = 'Quarterly',\n",
    "        header = 7, index_col = 0,\n",
    "    ).reset_index(drop = True, inplace = False)\n",
    "\n",
    "    df['Indicator'] = df['Indicator'].str.replace(pat = 'Govenment', repl = 'Government', case = True, regex = False)\n",
    "\n",
    "    df_current_unadjusted = df.iloc[1:9, :].rename(columns = {'Unnamed: 2': 'Indicator_Code'}, inplace=False).drop(columns = ['Base Year'], inplace = False)\n",
    "    df_current_adjusted = df.iloc[10:18, :].rename(columns = {'Unnamed: 2': 'Indicator_Code'}, inplace=False).drop(columns = ['Base Year'], inplace = False)\n",
    "    df_constant_adjusted = df.iloc[19:28, :].rename(columns = {'Unnamed: 2': 'Indicator_Code'}, inplace=False)\n",
    "\n",
    "    df_current_unadjusted.to_csv(\n",
    "        path_or_buf = f'{save_path}{country.lower()}/gdp_current_unadjusted.csv', \n",
    "        index = False\n",
    "    )\n",
    "    df_current_adjusted.to_csv(\n",
    "        path_or_buf = f'{save_path}{country.lower()}/gdp_current_adjusted.csv', \n",
    "        index = False\n",
    "    )\n",
    "    df_constant_adjusted.to_csv(\n",
    "        path_or_buf = f'{save_path}{country.lower()}/gdp_constant_adjusted.csv', \n",
    "        index = False\n",
    "    )"
   ]
  },
  {
   "cell_type": "code",
   "execution_count": null,
   "metadata": {},
   "outputs": [],
   "source": []
  }
 ],
 "metadata": {
  "kernelspec": {
   "display_name": "env-hackathon23_somnolence",
   "language": "python",
   "name": "python3"
  },
  "language_info": {
   "codemirror_mode": {
    "name": "ipython",
    "version": 3
   },
   "file_extension": ".py",
   "mimetype": "text/x-python",
   "name": "python",
   "nbconvert_exporter": "python",
   "pygments_lexer": "ipython3",
   "version": "3.11.3"
  },
  "orig_nbformat": 4
 },
 "nbformat": 4,
 "nbformat_minor": 2
}
