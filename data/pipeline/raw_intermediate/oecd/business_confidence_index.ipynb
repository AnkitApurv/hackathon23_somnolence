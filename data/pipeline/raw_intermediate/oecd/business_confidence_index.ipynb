{
 "cells": [
  {
   "cell_type": "code",
   "execution_count": 1,
   "metadata": {},
   "outputs": [],
   "source": [
    "import pandas"
   ]
  },
  {
   "cell_type": "code",
   "execution_count": 2,
   "metadata": {},
   "outputs": [],
   "source": [
    "df: pandas.DataFrame = pandas.read_csv(\n",
    "    filepath_or_buffer = '../../../raw/third_party/oecd/Business_Confidence_Index.csv',\n",
    "    header = 0\n",
    ")"
   ]
  },
  {
   "cell_type": "code",
   "execution_count": 3,
   "metadata": {},
   "outputs": [
    {
     "data": {
      "text/plain": [
       "Index(['LOCATION', 'INDICATOR', 'SUBJECT', 'MEASURE', 'FREQUENCY', 'TIME',\n",
       "       'Value', 'Flag Codes'],\n",
       "      dtype='object')"
      ]
     },
     "execution_count": 3,
     "metadata": {},
     "output_type": "execute_result"
    }
   ],
   "source": [
    "df.columns"
   ]
  },
  {
   "cell_type": "code",
   "execution_count": 4,
   "metadata": {},
   "outputs": [
    {
     "name": "stdout",
     "output_type": "stream",
     "text": [
      "INDICATOR: ['BCI']\n",
      "SUBJECT: ['AMPLITUD']\n",
      "MEASURE: ['LTRENDIDX']\n",
      "FREQUENCY: ['M']\n",
      "Flag Codes: [nan]\n"
     ]
    }
   ],
   "source": [
    "for column in ['INDICATOR', 'SUBJECT', 'MEASURE', 'FREQUENCY', 'Flag Codes']:\n",
    "    print(f'{column}: {df[column].unique()}')"
   ]
  },
  {
   "cell_type": "code",
   "execution_count": 5,
   "metadata": {},
   "outputs": [],
   "source": [
    "df: pandas.DataFrame = df.drop(columns = ['INDICATOR', 'SUBJECT', 'MEASURE', 'FREQUENCY', 'Flag Codes'], inplace = False)"
   ]
  },
  {
   "cell_type": "code",
   "execution_count": 6,
   "metadata": {},
   "outputs": [],
   "source": [
    "g7: dict[str, str] = {\n",
    "    'canada': 'CAN', \n",
    "    'france': 'FRA', \n",
    "    'germany': 'DEU', \n",
    "    'italy': 'ITA', \n",
    "    'japan': 'JPN', \n",
    "    'uk': 'GBR', \n",
    "    'usa': 'USA',\n",
    "}\n",
    "\n",
    "datasets: dict[str, pandas.DataFrame] = {}"
   ]
  },
  {
   "cell_type": "code",
   "execution_count": 7,
   "metadata": {},
   "outputs": [],
   "source": [
    "for country_name, country_code in g7.items():\n",
    "    country_df = df[df['LOCATION'].isin([country_code])]\n",
    "    country_df = country_df.drop(columns = ['LOCATION'], inplace = False)\n",
    "    datasets[country_name] = country_df"
   ]
  },
  {
   "cell_type": "code",
   "execution_count": 8,
   "metadata": {},
   "outputs": [],
   "source": [
    "save_path = '../../../intermediate/'\n",
    "\n",
    "for country_name, df in datasets.items():\n",
    "    df.to_csv(\n",
    "        path_or_buf = f'{save_path}{country_name}/business_confidence_index.csv', index = False\n",
    "    )"
   ]
  },
  {
   "cell_type": "code",
   "execution_count": null,
   "metadata": {},
   "outputs": [],
   "source": []
  }
 ],
 "metadata": {
  "kernelspec": {
   "display_name": "env-hackathon23_somnolence",
   "language": "python",
   "name": "python3"
  },
  "language_info": {
   "codemirror_mode": {
    "name": "ipython",
    "version": 3
   },
   "file_extension": ".py",
   "mimetype": "text/x-python",
   "name": "python",
   "nbconvert_exporter": "python",
   "pygments_lexer": "ipython3",
   "version": "3.11.3"
  },
  "orig_nbformat": 4
 },
 "nbformat": 4,
 "nbformat_minor": 2
}
