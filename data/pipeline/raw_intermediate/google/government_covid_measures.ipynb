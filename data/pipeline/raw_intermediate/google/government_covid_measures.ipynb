{
 "cells": [
  {
   "cell_type": "code",
   "execution_count": 1,
   "metadata": {},
   "outputs": [],
   "source": [
    "import pathlib\n",
    "import pandas"
   ]
  },
  {
   "cell_type": "code",
   "execution_count": 2,
   "metadata": {},
   "outputs": [],
   "source": [
    "file_path = pathlib.Path('../../../raw/third_party/google/oxford-government-response.csv')\n",
    "\n",
    "df_govt_covid_response = pandas.read_csv(filepath_or_buffer=file_path)"
   ]
  },
  {
   "cell_type": "code",
   "execution_count": 3,
   "metadata": {},
   "outputs": [],
   "source": [
    "country_codes = {'canada': 'CA', \n",
    "    'france': 'FR', \n",
    "    'germany': 'DE', \n",
    "    'italy': 'IT', \n",
    "    'japan': 'JP', \n",
    "    'uk': 'GB', \n",
    "    'usa': 'US'\n",
    "}\n",
    "\n",
    "save_path = '../../../intermediate/'"
   ]
  },
  {
   "cell_type": "code",
   "execution_count": 4,
   "metadata": {},
   "outputs": [],
   "source": [
    "for country_folder_name, country_code in country_codes.items():\n",
    "    df = df_govt_covid_response[\n",
    "        df_govt_covid_response['location_key'].isin([country_code])\n",
    "    ]\n",
    "    df = df.drop(columns = ['location_key'], inplace=False)\n",
    "\n",
    "    df.to_csv(path_or_buf = f'{save_path}{country_folder_name}/government_covid_measures.csv', index = False)"
   ]
  },
  {
   "cell_type": "code",
   "execution_count": null,
   "metadata": {},
   "outputs": [],
   "source": []
  }
 ],
 "metadata": {
  "kernelspec": {
   "display_name": "env-hackathon23_somnolence",
   "language": "python",
   "name": "python3"
  },
  "language_info": {
   "codemirror_mode": {
    "name": "ipython",
    "version": 3
   },
   "file_extension": ".py",
   "mimetype": "text/x-python",
   "name": "python",
   "nbconvert_exporter": "python",
   "pygments_lexer": "ipython3",
   "version": "3.11.3"
  },
  "orig_nbformat": 4
 },
 "nbformat": 4,
 "nbformat_minor": 2
}
