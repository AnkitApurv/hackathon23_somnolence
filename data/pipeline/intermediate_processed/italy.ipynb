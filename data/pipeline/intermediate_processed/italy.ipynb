{
 "cells": [
  {
   "attachments": {},
   "cell_type": "markdown",
   "metadata": {},
   "source": [
    "# Data Processing - Intermediate to Processed (not Model Ready)"
   ]
  },
  {
   "attachments": {},
   "cell_type": "markdown",
   "metadata": {},
   "source": [
    "## Preparation"
   ]
  },
  {
   "cell_type": "code",
   "execution_count": 1,
   "metadata": {},
   "outputs": [],
   "source": [
    "from functools import reduce\n",
    "\n",
    "import numpy\n",
    "import pandas\n",
    "\n",
    "import data_processing"
   ]
  },
  {
   "cell_type": "code",
   "execution_count": 2,
   "metadata": {},
   "outputs": [],
   "source": [
    "country = 'italy'\n",
    "\n",
    "source_path = f'../../intermediate/{country}/'\n",
    "sink_path = '../../processed/'"
   ]
  },
  {
   "attachments": {},
   "cell_type": "markdown",
   "metadata": {},
   "source": [
    "## Load Intermediate Data"
   ]
  },
  {
   "cell_type": "code",
   "execution_count": 3,
   "metadata": {},
   "outputs": [],
   "source": [
    "# target\n",
    "df_unemployment_rate = pandas.read_csv(filepath_or_buffer = f'{source_path}unemployment_rate.csv',)\n",
    "\n",
    "# energy\n",
    "df_electricity = pandas.read_csv(filepath_or_buffer = f'{source_path}monthly_electricity_statistics.csv',)\n",
    "df_gas_trade_balance = pandas.read_csv(filepath_or_buffer = f'{source_path}gas_trade_balance.csv',)\n",
    "\n",
    "# market activity\n",
    "df_production = pandas.read_csv(filepath_or_buffer = f'{source_path}imf_production.csv',)\n",
    "df_prices = pandas.read_csv(filepath_or_buffer = f'{source_path}imf_prices.csv',)\n",
    "df_labour = pandas.read_csv(filepath_or_buffer = f'{source_path}imf_labour.csv',)\n",
    "\n",
    "# macro-economics\n",
    "## figures\n",
    "df_gdp_current_unadjusted = pandas.read_csv(filepath_or_buffer = f'{source_path}gdp_current_unadjusted.csv',)\n",
    "df_gdp_current_adjusted = pandas.read_csv(filepath_or_buffer = f'{source_path}gdp_current_adjusted.csv',)\n",
    "df_gdp_constant_unadjusted = pandas.read_csv(filepath_or_buffer = f'{source_path}gdp_constant_unadjusted.csv',)\n",
    "df_gdp_constant_adjusted = pandas.read_csv(filepath_or_buffer = f'{source_path}gdp_constant_adjusted.csv',)\n",
    "## indicators\n",
    "df_consumer_confidence = pandas.read_csv(filepath_or_buffer = f'{source_path}consumer_confidence_index.csv',)\n",
    "df_business_confidence = pandas.read_csv(filepath_or_buffer = f'{source_path}business_confidence_index.csv',)\n",
    "\n",
    "# central bank and government intervention\n",
    "df_interest_rates = pandas.read_csv(filepath_or_buffer = f'{source_path}central_banking_interest_rates.csv',)"
   ]
  },
  {
   "attachments": {},
   "cell_type": "markdown",
   "metadata": {},
   "source": [
    "## Transform"
   ]
  },
  {
   "cell_type": "code",
   "execution_count": 4,
   "metadata": {},
   "outputs": [],
   "source": [
    "df_unemployment_rate = data_processing.t_unemployment_rate(df_unemployment_rate)\n",
    "\n",
    "df_electricity = data_processing.t_electricity(df_electricity)\n",
    "df_gas_trade_balance = data_processing.t_gas_trade_balance(df_gas_trade_balance)\n",
    "\n",
    "df_production = data_processing.t_production(df_production)\n",
    "df_prices = data_processing.t_prices(df_prices)\n",
    "df_labour = data_processing.t_labour(df_labour)\n",
    "\n",
    "df_gdp_current_unadjusted = data_processing.t_gdp_current(df_gdp_current_unadjusted)\n",
    "df_gdp_current_adjusted = data_processing.t_gdp_current(df_gdp_current_adjusted)\n",
    "df_gdp_constant_unadjusted = data_processing.t_gdp_constant(df_gdp_constant_unadjusted)\n",
    "df_gdp_constant_adjusted = data_processing.t_gdp_constant(df_gdp_constant_adjusted)\n",
    "\n",
    "df_consumer_confidence = data_processing.t_consumer_confidence(df_consumer_confidence)\n",
    "df_business_confidence = data_processing.t_business_confidence(df_business_confidence)\n",
    "\n",
    "df_interest_rates = data_processing.t_interest_rates(df_interest_rates)"
   ]
  },
  {
   "attachments": {},
   "cell_type": "markdown",
   "metadata": {},
   "source": [
    "## Combine"
   ]
  },
  {
   "cell_type": "code",
   "execution_count": 5,
   "metadata": {},
   "outputs": [],
   "source": [
    "dfs: list[pandas.DataFrame] = [df_unemployment_rate,\n",
    "    df_electricity, df_gas_trade_balance,\n",
    "    df_production, df_prices, df_labour,\n",
    "    df_gdp_current_unadjusted, df_gdp_current_adjusted, df_gdp_constant_unadjusted, df_gdp_constant_adjusted,\n",
    "    df_consumer_confidence, df_business_confidence,\n",
    "    df_interest_rates\n",
    "]"
   ]
  },
  {
   "cell_type": "code",
   "execution_count": 6,
   "metadata": {},
   "outputs": [],
   "source": [
    "df_all = reduce(lambda left, right: pandas.merge(left, right , on = ['Time'], how='outer'), dfs)\n",
    "df_all = df_all.sort_values(by = 'Time', inplace = False)"
   ]
  },
  {
   "attachments": {},
   "cell_type": "markdown",
   "metadata": {},
   "source": [
    "## Clean and Test Index"
   ]
  },
  {
   "cell_type": "code",
   "execution_count": 7,
   "metadata": {},
   "outputs": [],
   "source": [
    "df_all = df_all.replace(to_replace = '...', value = numpy.NaN, inplace = False)"
   ]
  },
  {
   "cell_type": "code",
   "execution_count": 8,
   "metadata": {},
   "outputs": [
    {
     "data": {
      "text/html": [
       "<div>\n",
       "<style scoped>\n",
       "    .dataframe tbody tr th:only-of-type {\n",
       "        vertical-align: middle;\n",
       "    }\n",
       "\n",
       "    .dataframe tbody tr th {\n",
       "        vertical-align: top;\n",
       "    }\n",
       "\n",
       "    .dataframe thead th {\n",
       "        text-align: right;\n",
       "    }\n",
       "</style>\n",
       "<table border=\"1\" class=\"dataframe\">\n",
       "  <thead>\n",
       "    <tr style=\"text-align: right;\">\n",
       "      <th></th>\n",
       "      <th>Unemployment_Rate_MEN</th>\n",
       "      <th>Unemployment_Rate_TOT</th>\n",
       "      <th>Unemployment_Rate_WOMEN</th>\n",
       "      <th>Electricity_Distribution_Losses</th>\n",
       "      <th>Electricity_Final_Consumption_(Calculated)</th>\n",
       "      <th>Natural_Gas_Trade_Balance</th>\n",
       "      <th>Economic_Activity|Industrial_Production|Index|Base_Year-2010=100</th>\n",
       "      <th>Economic_Activity|Industrial_Production|Manufacturing|Index|Base_Year-2010=100</th>\n",
       "      <th>Industrial_Production|Seasonally_adjusted|Index|Base_Year-2010=100</th>\n",
       "      <th>Financial_Market_Prices|Equities|Index|Base_Year-None</th>\n",
       "      <th>...</th>\n",
       "      <th>Harmonized_Euro_Area_Rates|Loans|Non-Financial_Corporations|Up_to_1_Year</th>\n",
       "      <th>Harmonized_Euro_Area_Rates|New_Business|Deposits|Households|Agreed_Maturity|Up_to_1_Year</th>\n",
       "      <th>Harmonized_Euro_Area_Rates|New_Business|Deposits|Non-financial_Corporations|Agreed_Maturity|Up_to_1_Year</th>\n",
       "      <th>Harmonized_Euro_Area_Rates|New_Business|Loans|Households|Consumption|Floating_Rate_and_up_to_1_Year</th>\n",
       "      <th>Harmonized_Euro_Area_Rates|New_Business|Loans|Households|House_Purchase|Over_5_Years</th>\n",
       "      <th>Harmonized_Euro_Area_Rates|Outstanding_Amounts|Deposits|Households|Agreed_Maturity|Up_to_2_Years</th>\n",
       "      <th>Harmonized_Euro_Area_Rates|Outstanding_Amounts|Deposits|Non-Financial_Corporations|Agreed_Maturity|Up_to_2_Years</th>\n",
       "      <th>Lending_Rate</th>\n",
       "      <th>Money_Market_Rate</th>\n",
       "      <th>Treasury_Bill_Rate</th>\n",
       "    </tr>\n",
       "    <tr>\n",
       "      <th>Time</th>\n",
       "      <th></th>\n",
       "      <th></th>\n",
       "      <th></th>\n",
       "      <th></th>\n",
       "      <th></th>\n",
       "      <th></th>\n",
       "      <th></th>\n",
       "      <th></th>\n",
       "      <th></th>\n",
       "      <th></th>\n",
       "      <th></th>\n",
       "      <th></th>\n",
       "      <th></th>\n",
       "      <th></th>\n",
       "      <th></th>\n",
       "      <th></th>\n",
       "      <th></th>\n",
       "      <th></th>\n",
       "      <th></th>\n",
       "      <th></th>\n",
       "      <th></th>\n",
       "    </tr>\n",
       "  </thead>\n",
       "  <tbody>\n",
       "    <tr>\n",
       "      <th>1962-02-01</th>\n",
       "      <td>NaN</td>\n",
       "      <td>NaN</td>\n",
       "      <td>NaN</td>\n",
       "      <td>NaN</td>\n",
       "      <td>NaN</td>\n",
       "      <td>NaN</td>\n",
       "      <td>NaN</td>\n",
       "      <td>NaN</td>\n",
       "      <td>NaN</td>\n",
       "      <td>NaN</td>\n",
       "      <td>...</td>\n",
       "      <td>NaN</td>\n",
       "      <td>NaN</td>\n",
       "      <td>NaN</td>\n",
       "      <td>NaN</td>\n",
       "      <td>NaN</td>\n",
       "      <td>NaN</td>\n",
       "      <td>NaN</td>\n",
       "      <td>NaN</td>\n",
       "      <td>NaN</td>\n",
       "      <td>NaN</td>\n",
       "    </tr>\n",
       "    <tr>\n",
       "      <th>1962-03-01</th>\n",
       "      <td>NaN</td>\n",
       "      <td>NaN</td>\n",
       "      <td>NaN</td>\n",
       "      <td>NaN</td>\n",
       "      <td>NaN</td>\n",
       "      <td>NaN</td>\n",
       "      <td>NaN</td>\n",
       "      <td>NaN</td>\n",
       "      <td>NaN</td>\n",
       "      <td>NaN</td>\n",
       "      <td>...</td>\n",
       "      <td>NaN</td>\n",
       "      <td>NaN</td>\n",
       "      <td>NaN</td>\n",
       "      <td>NaN</td>\n",
       "      <td>NaN</td>\n",
       "      <td>NaN</td>\n",
       "      <td>NaN</td>\n",
       "      <td>NaN</td>\n",
       "      <td>NaN</td>\n",
       "      <td>NaN</td>\n",
       "    </tr>\n",
       "    <tr>\n",
       "      <th>1962-04-01</th>\n",
       "      <td>NaN</td>\n",
       "      <td>NaN</td>\n",
       "      <td>NaN</td>\n",
       "      <td>NaN</td>\n",
       "      <td>NaN</td>\n",
       "      <td>NaN</td>\n",
       "      <td>NaN</td>\n",
       "      <td>NaN</td>\n",
       "      <td>NaN</td>\n",
       "      <td>NaN</td>\n",
       "      <td>...</td>\n",
       "      <td>NaN</td>\n",
       "      <td>NaN</td>\n",
       "      <td>NaN</td>\n",
       "      <td>NaN</td>\n",
       "      <td>NaN</td>\n",
       "      <td>NaN</td>\n",
       "      <td>NaN</td>\n",
       "      <td>NaN</td>\n",
       "      <td>NaN</td>\n",
       "      <td>NaN</td>\n",
       "    </tr>\n",
       "    <tr>\n",
       "      <th>1962-05-01</th>\n",
       "      <td>NaN</td>\n",
       "      <td>NaN</td>\n",
       "      <td>NaN</td>\n",
       "      <td>NaN</td>\n",
       "      <td>NaN</td>\n",
       "      <td>NaN</td>\n",
       "      <td>NaN</td>\n",
       "      <td>NaN</td>\n",
       "      <td>NaN</td>\n",
       "      <td>NaN</td>\n",
       "      <td>...</td>\n",
       "      <td>NaN</td>\n",
       "      <td>NaN</td>\n",
       "      <td>NaN</td>\n",
       "      <td>NaN</td>\n",
       "      <td>NaN</td>\n",
       "      <td>NaN</td>\n",
       "      <td>NaN</td>\n",
       "      <td>NaN</td>\n",
       "      <td>NaN</td>\n",
       "      <td>NaN</td>\n",
       "    </tr>\n",
       "    <tr>\n",
       "      <th>1962-06-01</th>\n",
       "      <td>NaN</td>\n",
       "      <td>NaN</td>\n",
       "      <td>NaN</td>\n",
       "      <td>NaN</td>\n",
       "      <td>NaN</td>\n",
       "      <td>NaN</td>\n",
       "      <td>NaN</td>\n",
       "      <td>NaN</td>\n",
       "      <td>NaN</td>\n",
       "      <td>NaN</td>\n",
       "      <td>...</td>\n",
       "      <td>NaN</td>\n",
       "      <td>NaN</td>\n",
       "      <td>NaN</td>\n",
       "      <td>NaN</td>\n",
       "      <td>NaN</td>\n",
       "      <td>NaN</td>\n",
       "      <td>NaN</td>\n",
       "      <td>NaN</td>\n",
       "      <td>NaN</td>\n",
       "      <td>NaN</td>\n",
       "    </tr>\n",
       "    <tr>\n",
       "      <th>...</th>\n",
       "      <td>...</td>\n",
       "      <td>...</td>\n",
       "      <td>...</td>\n",
       "      <td>...</td>\n",
       "      <td>...</td>\n",
       "      <td>...</td>\n",
       "      <td>...</td>\n",
       "      <td>...</td>\n",
       "      <td>...</td>\n",
       "      <td>...</td>\n",
       "      <td>...</td>\n",
       "      <td>...</td>\n",
       "      <td>...</td>\n",
       "      <td>...</td>\n",
       "      <td>...</td>\n",
       "      <td>...</td>\n",
       "      <td>...</td>\n",
       "      <td>...</td>\n",
       "      <td>...</td>\n",
       "      <td>...</td>\n",
       "      <td>...</td>\n",
       "    </tr>\n",
       "    <tr>\n",
       "      <th>2022-11-01</th>\n",
       "      <td>6.8</td>\n",
       "      <td>7.9</td>\n",
       "      <td>9.3</td>\n",
       "      <td>1484.7093</td>\n",
       "      <td>23653.7756</td>\n",
       "      <td>4541.700</td>\n",
       "      <td>99.930923</td>\n",
       "      <td>98.294791</td>\n",
       "      <td>95.825603</td>\n",
       "      <td>138.055337540356</td>\n",
       "      <td>...</td>\n",
       "      <td>NaN</td>\n",
       "      <td>NaN</td>\n",
       "      <td>NaN</td>\n",
       "      <td>NaN</td>\n",
       "      <td>NaN</td>\n",
       "      <td>NaN</td>\n",
       "      <td>NaN</td>\n",
       "      <td>3.108</td>\n",
       "      <td>NaN</td>\n",
       "      <td>2.523</td>\n",
       "    </tr>\n",
       "    <tr>\n",
       "      <th>2022-12-01</th>\n",
       "      <td>6.9</td>\n",
       "      <td>7.9</td>\n",
       "      <td>9.2</td>\n",
       "      <td>1482.4691</td>\n",
       "      <td>23660.6184</td>\n",
       "      <td>5157.992</td>\n",
       "      <td>NaN</td>\n",
       "      <td>NaN</td>\n",
       "      <td>NaN</td>\n",
       "      <td>138.216789868152</td>\n",
       "      <td>...</td>\n",
       "      <td>NaN</td>\n",
       "      <td>NaN</td>\n",
       "      <td>NaN</td>\n",
       "      <td>NaN</td>\n",
       "      <td>NaN</td>\n",
       "      <td>NaN</td>\n",
       "      <td>NaN</td>\n",
       "      <td>3.37</td>\n",
       "      <td>NaN</td>\n",
       "      <td>2.6686</td>\n",
       "    </tr>\n",
       "    <tr>\n",
       "      <th>2023-01-01</th>\n",
       "      <td>6.8</td>\n",
       "      <td>8.0</td>\n",
       "      <td>9.5</td>\n",
       "      <td>1553.0938</td>\n",
       "      <td>24753.7069</td>\n",
       "      <td>5190.100</td>\n",
       "      <td>NaN</td>\n",
       "      <td>NaN</td>\n",
       "      <td>NaN</td>\n",
       "      <td>145.791543873083</td>\n",
       "      <td>...</td>\n",
       "      <td>NaN</td>\n",
       "      <td>NaN</td>\n",
       "      <td>NaN</td>\n",
       "      <td>NaN</td>\n",
       "      <td>NaN</td>\n",
       "      <td>NaN</td>\n",
       "      <td>NaN</td>\n",
       "      <td>3.894775</td>\n",
       "      <td>NaN</td>\n",
       "      <td>2.9873</td>\n",
       "    </tr>\n",
       "    <tr>\n",
       "      <th>2023-02-01</th>\n",
       "      <td>6.9</td>\n",
       "      <td>8.0</td>\n",
       "      <td>9.4</td>\n",
       "      <td>NaN</td>\n",
       "      <td>NaN</td>\n",
       "      <td>1108.760</td>\n",
       "      <td>NaN</td>\n",
       "      <td>NaN</td>\n",
       "      <td>NaN</td>\n",
       "      <td>154.49469713933</td>\n",
       "      <td>...</td>\n",
       "      <td>NaN</td>\n",
       "      <td>NaN</td>\n",
       "      <td>NaN</td>\n",
       "      <td>NaN</td>\n",
       "      <td>NaN</td>\n",
       "      <td>NaN</td>\n",
       "      <td>NaN</td>\n",
       "      <td>4.127</td>\n",
       "      <td>NaN</td>\n",
       "      <td>3.1636</td>\n",
       "    </tr>\n",
       "    <tr>\n",
       "      <th>2023-03-01</th>\n",
       "      <td>NaN</td>\n",
       "      <td>NaN</td>\n",
       "      <td>NaN</td>\n",
       "      <td>NaN</td>\n",
       "      <td>NaN</td>\n",
       "      <td>NaN</td>\n",
       "      <td>NaN</td>\n",
       "      <td>NaN</td>\n",
       "      <td>NaN</td>\n",
       "      <td>151.459467488043</td>\n",
       "      <td>...</td>\n",
       "      <td>NaN</td>\n",
       "      <td>NaN</td>\n",
       "      <td>NaN</td>\n",
       "      <td>NaN</td>\n",
       "      <td>NaN</td>\n",
       "      <td>NaN</td>\n",
       "      <td>NaN</td>\n",
       "      <td>NaN</td>\n",
       "      <td>NaN</td>\n",
       "      <td>NaN</td>\n",
       "    </tr>\n",
       "  </tbody>\n",
       "</table>\n",
       "<p>734 rows × 61 columns</p>\n",
       "</div>"
      ],
      "text/plain": [
       "            Unemployment_Rate_MEN  Unemployment_Rate_TOT   \n",
       "Time                                                       \n",
       "1962-02-01                    NaN                    NaN  \\\n",
       "1962-03-01                    NaN                    NaN   \n",
       "1962-04-01                    NaN                    NaN   \n",
       "1962-05-01                    NaN                    NaN   \n",
       "1962-06-01                    NaN                    NaN   \n",
       "...                           ...                    ...   \n",
       "2022-11-01                    6.8                    7.9   \n",
       "2022-12-01                    6.9                    7.9   \n",
       "2023-01-01                    6.8                    8.0   \n",
       "2023-02-01                    6.9                    8.0   \n",
       "2023-03-01                    NaN                    NaN   \n",
       "\n",
       "            Unemployment_Rate_WOMEN  Electricity_Distribution_Losses   \n",
       "Time                                                                   \n",
       "1962-02-01                      NaN                              NaN  \\\n",
       "1962-03-01                      NaN                              NaN   \n",
       "1962-04-01                      NaN                              NaN   \n",
       "1962-05-01                      NaN                              NaN   \n",
       "1962-06-01                      NaN                              NaN   \n",
       "...                             ...                              ...   \n",
       "2022-11-01                      9.3                        1484.7093   \n",
       "2022-12-01                      9.2                        1482.4691   \n",
       "2023-01-01                      9.5                        1553.0938   \n",
       "2023-02-01                      9.4                              NaN   \n",
       "2023-03-01                      NaN                              NaN   \n",
       "\n",
       "            Electricity_Final_Consumption_(Calculated)   \n",
       "Time                                                     \n",
       "1962-02-01                                         NaN  \\\n",
       "1962-03-01                                         NaN   \n",
       "1962-04-01                                         NaN   \n",
       "1962-05-01                                         NaN   \n",
       "1962-06-01                                         NaN   \n",
       "...                                                ...   \n",
       "2022-11-01                                  23653.7756   \n",
       "2022-12-01                                  23660.6184   \n",
       "2023-01-01                                  24753.7069   \n",
       "2023-02-01                                         NaN   \n",
       "2023-03-01                                         NaN   \n",
       "\n",
       "            Natural_Gas_Trade_Balance   \n",
       "Time                                    \n",
       "1962-02-01                        NaN  \\\n",
       "1962-03-01                        NaN   \n",
       "1962-04-01                        NaN   \n",
       "1962-05-01                        NaN   \n",
       "1962-06-01                        NaN   \n",
       "...                               ...   \n",
       "2022-11-01                   4541.700   \n",
       "2022-12-01                   5157.992   \n",
       "2023-01-01                   5190.100   \n",
       "2023-02-01                   1108.760   \n",
       "2023-03-01                        NaN   \n",
       "\n",
       "            Economic_Activity|Industrial_Production|Index|Base_Year-2010=100   \n",
       "Time                                                                           \n",
       "1962-02-01                                                NaN                 \\\n",
       "1962-03-01                                                NaN                  \n",
       "1962-04-01                                                NaN                  \n",
       "1962-05-01                                                NaN                  \n",
       "1962-06-01                                                NaN                  \n",
       "...                                                       ...                  \n",
       "2022-11-01                                          99.930923                  \n",
       "2022-12-01                                                NaN                  \n",
       "2023-01-01                                                NaN                  \n",
       "2023-02-01                                                NaN                  \n",
       "2023-03-01                                                NaN                  \n",
       "\n",
       "            Economic_Activity|Industrial_Production|Manufacturing|Index|Base_Year-2010=100   \n",
       "Time                                                                                         \n",
       "1962-02-01                                                NaN                               \\\n",
       "1962-03-01                                                NaN                                \n",
       "1962-04-01                                                NaN                                \n",
       "1962-05-01                                                NaN                                \n",
       "1962-06-01                                                NaN                                \n",
       "...                                                       ...                                \n",
       "2022-11-01                                          98.294791                                \n",
       "2022-12-01                                                NaN                                \n",
       "2023-01-01                                                NaN                                \n",
       "2023-02-01                                                NaN                                \n",
       "2023-03-01                                                NaN                                \n",
       "\n",
       "            Industrial_Production|Seasonally_adjusted|Index|Base_Year-2010=100   \n",
       "Time                                                                             \n",
       "1962-02-01                                                NaN                   \\\n",
       "1962-03-01                                                NaN                    \n",
       "1962-04-01                                                NaN                    \n",
       "1962-05-01                                                NaN                    \n",
       "1962-06-01                                                NaN                    \n",
       "...                                                       ...                    \n",
       "2022-11-01                                          95.825603                    \n",
       "2022-12-01                                                NaN                    \n",
       "2023-01-01                                                NaN                    \n",
       "2023-02-01                                                NaN                    \n",
       "2023-03-01                                                NaN                    \n",
       "\n",
       "           Financial_Market_Prices|Equities|Index|Base_Year-None  ...   \n",
       "Time                                                              ...   \n",
       "1962-02-01                                                NaN     ...  \\\n",
       "1962-03-01                                                NaN     ...   \n",
       "1962-04-01                                                NaN     ...   \n",
       "1962-05-01                                                NaN     ...   \n",
       "1962-06-01                                                NaN     ...   \n",
       "...                                                       ...     ...   \n",
       "2022-11-01                                   138.055337540356     ...   \n",
       "2022-12-01                                   138.216789868152     ...   \n",
       "2023-01-01                                   145.791543873083     ...   \n",
       "2023-02-01                                    154.49469713933     ...   \n",
       "2023-03-01                                   151.459467488043     ...   \n",
       "\n",
       "           Harmonized_Euro_Area_Rates|Loans|Non-Financial_Corporations|Up_to_1_Year   \n",
       "Time                                                                                  \n",
       "1962-02-01                                                NaN                        \\\n",
       "1962-03-01                                                NaN                         \n",
       "1962-04-01                                                NaN                         \n",
       "1962-05-01                                                NaN                         \n",
       "1962-06-01                                                NaN                         \n",
       "...                                                       ...                         \n",
       "2022-11-01                                                NaN                         \n",
       "2022-12-01                                                NaN                         \n",
       "2023-01-01                                                NaN                         \n",
       "2023-02-01                                                NaN                         \n",
       "2023-03-01                                                NaN                         \n",
       "\n",
       "            Harmonized_Euro_Area_Rates|New_Business|Deposits|Households|Agreed_Maturity|Up_to_1_Year   \n",
       "Time                                                                                                   \n",
       "1962-02-01                                                NaN                                         \\\n",
       "1962-03-01                                                NaN                                          \n",
       "1962-04-01                                                NaN                                          \n",
       "1962-05-01                                                NaN                                          \n",
       "1962-06-01                                                NaN                                          \n",
       "...                                                       ...                                          \n",
       "2022-11-01                                                NaN                                          \n",
       "2022-12-01                                                NaN                                          \n",
       "2023-01-01                                                NaN                                          \n",
       "2023-02-01                                                NaN                                          \n",
       "2023-03-01                                                NaN                                          \n",
       "\n",
       "           Harmonized_Euro_Area_Rates|New_Business|Deposits|Non-financial_Corporations|Agreed_Maturity|Up_to_1_Year   \n",
       "Time                                                                                                                  \n",
       "1962-02-01                                                NaN                                                        \\\n",
       "1962-03-01                                                NaN                                                         \n",
       "1962-04-01                                                NaN                                                         \n",
       "1962-05-01                                                NaN                                                         \n",
       "1962-06-01                                                NaN                                                         \n",
       "...                                                       ...                                                         \n",
       "2022-11-01                                                NaN                                                         \n",
       "2022-12-01                                                NaN                                                         \n",
       "2023-01-01                                                NaN                                                         \n",
       "2023-02-01                                                NaN                                                         \n",
       "2023-03-01                                                NaN                                                         \n",
       "\n",
       "            Harmonized_Euro_Area_Rates|New_Business|Loans|Households|Consumption|Floating_Rate_and_up_to_1_Year   \n",
       "Time                                                                                                              \n",
       "1962-02-01                                                NaN                                                    \\\n",
       "1962-03-01                                                NaN                                                     \n",
       "1962-04-01                                                NaN                                                     \n",
       "1962-05-01                                                NaN                                                     \n",
       "1962-06-01                                                NaN                                                     \n",
       "...                                                       ...                                                     \n",
       "2022-11-01                                                NaN                                                     \n",
       "2022-12-01                                                NaN                                                     \n",
       "2023-01-01                                                NaN                                                     \n",
       "2023-02-01                                                NaN                                                     \n",
       "2023-03-01                                                NaN                                                     \n",
       "\n",
       "           Harmonized_Euro_Area_Rates|New_Business|Loans|Households|House_Purchase|Over_5_Years   \n",
       "Time                                                                                              \n",
       "1962-02-01                                                NaN                                    \\\n",
       "1962-03-01                                                NaN                                     \n",
       "1962-04-01                                                NaN                                     \n",
       "1962-05-01                                                NaN                                     \n",
       "1962-06-01                                                NaN                                     \n",
       "...                                                       ...                                     \n",
       "2022-11-01                                                NaN                                     \n",
       "2022-12-01                                                NaN                                     \n",
       "2023-01-01                                                NaN                                     \n",
       "2023-02-01                                                NaN                                     \n",
       "2023-03-01                                                NaN                                     \n",
       "\n",
       "            Harmonized_Euro_Area_Rates|Outstanding_Amounts|Deposits|Households|Agreed_Maturity|Up_to_2_Years   \n",
       "Time                                                                                                           \n",
       "1962-02-01                                                NaN                                                 \\\n",
       "1962-03-01                                                NaN                                                  \n",
       "1962-04-01                                                NaN                                                  \n",
       "1962-05-01                                                NaN                                                  \n",
       "1962-06-01                                                NaN                                                  \n",
       "...                                                       ...                                                  \n",
       "2022-11-01                                                NaN                                                  \n",
       "2022-12-01                                                NaN                                                  \n",
       "2023-01-01                                                NaN                                                  \n",
       "2023-02-01                                                NaN                                                  \n",
       "2023-03-01                                                NaN                                                  \n",
       "\n",
       "            Harmonized_Euro_Area_Rates|Outstanding_Amounts|Deposits|Non-Financial_Corporations|Agreed_Maturity|Up_to_2_Years   \n",
       "Time                                                                                                                           \n",
       "1962-02-01                                                NaN                                                                 \\\n",
       "1962-03-01                                                NaN                                                                  \n",
       "1962-04-01                                                NaN                                                                  \n",
       "1962-05-01                                                NaN                                                                  \n",
       "1962-06-01                                                NaN                                                                  \n",
       "...                                                       ...                                                                  \n",
       "2022-11-01                                                NaN                                                                  \n",
       "2022-12-01                                                NaN                                                                  \n",
       "2023-01-01                                                NaN                                                                  \n",
       "2023-02-01                                                NaN                                                                  \n",
       "2023-03-01                                                NaN                                                                  \n",
       "\n",
       "            Lending_Rate  Money_Market_Rate  Treasury_Bill_Rate  \n",
       "Time                                                             \n",
       "1962-02-01           NaN                NaN                 NaN  \n",
       "1962-03-01           NaN                NaN                 NaN  \n",
       "1962-04-01           NaN                NaN                 NaN  \n",
       "1962-05-01           NaN                NaN                 NaN  \n",
       "1962-06-01           NaN                NaN                 NaN  \n",
       "...                  ...                ...                 ...  \n",
       "2022-11-01         3.108                NaN               2.523  \n",
       "2022-12-01          3.37                NaN              2.6686  \n",
       "2023-01-01      3.894775                NaN              2.9873  \n",
       "2023-02-01         4.127                NaN              3.1636  \n",
       "2023-03-01           NaN                NaN                 NaN  \n",
       "\n",
       "[734 rows x 61 columns]"
      ]
     },
     "execution_count": 8,
     "metadata": {},
     "output_type": "execute_result"
    }
   ],
   "source": [
    "df_all.set_index(keys = 'Time', verify_integrity = True, inplace = False)"
   ]
  },
  {
   "attachments": {},
   "cell_type": "markdown",
   "metadata": {},
   "source": [
    "## Save"
   ]
  },
  {
   "cell_type": "code",
   "execution_count": 9,
   "metadata": {},
   "outputs": [],
   "source": [
    "df_all.to_excel(\n",
    "    excel_writer = f'{sink_path}{country}.xlsx', index = False\n",
    ")"
   ]
  },
  {
   "attachments": {},
   "cell_type": "markdown",
   "metadata": {},
   "source": [
    "## Check Constituent Datasets"
   ]
  },
  {
   "cell_type": "code",
   "execution_count": 10,
   "metadata": {},
   "outputs": [
    {
     "data": {
      "text/plain": [
       "Index(['Time', 'Unemployment_Rate_MEN', 'Unemployment_Rate_TOT',\n",
       "       'Unemployment_Rate_WOMEN'],\n",
       "      dtype='object', name='SUBJECT')"
      ]
     },
     "execution_count": 10,
     "metadata": {},
     "output_type": "execute_result"
    }
   ],
   "source": [
    "df_unemployment_rate.columns"
   ]
  },
  {
   "cell_type": "code",
   "execution_count": 11,
   "metadata": {},
   "outputs": [
    {
     "data": {
      "text/plain": [
       "Index(['Time', 'Electricity_Distribution_Losses',\n",
       "       'Electricity_Final_Consumption_(Calculated)'],\n",
       "      dtype='object', name='Product_Balance')"
      ]
     },
     "execution_count": 11,
     "metadata": {},
     "output_type": "execute_result"
    }
   ],
   "source": [
    "df_electricity.columns"
   ]
  },
  {
   "cell_type": "code",
   "execution_count": 12,
   "metadata": {},
   "outputs": [
    {
     "data": {
      "text/plain": [
       "Index(['Time', 'Natural_Gas_Trade_Balance'], dtype='object', name='Trade_Direction')"
      ]
     },
     "execution_count": 12,
     "metadata": {},
     "output_type": "execute_result"
    }
   ],
   "source": [
    "df_gas_trade_balance.columns"
   ]
  },
  {
   "cell_type": "code",
   "execution_count": 13,
   "metadata": {},
   "outputs": [
    {
     "data": {
      "text/plain": [
       "Index(['Time',\n",
       "       'Economic_Activity|Industrial_Production|Index|Base_Year-2010=100',\n",
       "       'Economic_Activity|Industrial_Production|Manufacturing|Index|Base_Year-2010=100',\n",
       "       'Industrial_Production|Seasonally_adjusted|Index|Base_Year-2010=100'],\n",
       "      dtype='object', name='Indicator')"
      ]
     },
     "execution_count": 13,
     "metadata": {},
     "output_type": "execute_result"
    }
   ],
   "source": [
    "df_production.columns"
   ]
  },
  {
   "cell_type": "code",
   "execution_count": 14,
   "metadata": {},
   "outputs": [
    {
     "data": {
      "text/plain": [
       "Index(['Time', 'Financial_Market_Prices|Equities|Index|Base_Year-None',\n",
       "       'Prices|Consumer_Price_Index|All_items|Index|Base_Year-2010=100',\n",
       "       'Prices|Producer_Price_Index|All_Commodities|Index|Base_Year-2010=100'],\n",
       "      dtype='object', name='Indicator')"
      ]
     },
     "execution_count": 14,
     "metadata": {},
     "output_type": "execute_result"
    }
   ],
   "source": [
    "df_prices.columns"
   ]
  },
  {
   "cell_type": "code",
   "execution_count": 15,
   "metadata": {},
   "outputs": [
    {
     "data": {
      "text/plain": [
       "Index(['Time', 'Labor_Markets|Unemployment_Rate|Percent',\n",
       "       'Labor_Markets|Wage_Rates|Index', 'Unemployment|Persons|Number_of'],\n",
       "      dtype='object', name='Indicator')"
      ]
     },
     "execution_count": 15,
     "metadata": {},
     "output_type": "execute_result"
    }
   ],
   "source": [
    "df_labour.columns"
   ]
  },
  {
   "cell_type": "code",
   "execution_count": 16,
   "metadata": {},
   "outputs": [
    {
     "data": {
      "text/plain": [
       "Index(['Time', 'Change_in_Inventories|Nominal|Undjusted|Domestic_Currency',\n",
       "       'Exports_of_Goods_and_Services|Nominal|Undjusted|Domestic_Currency',\n",
       "       'Government_Consumption_Expenditure|Nominal|Undjusted|Domestic_Currency',\n",
       "       'Gross_Domestic_Product|Nominal|Undjusted|Domestic_Currency',\n",
       "       'Gross_Fixed_Capital_Formation|Nominal|Undjusted|Domestic_Currency',\n",
       "       'Household_Consumption_Expenditure|incl._NPISHs|Nominal|Undjusted|Domestic_Currency',\n",
       "       'Imports_of_Goods_and_Services|Nominal|Undjusted|Domestic_Currency',\n",
       "       'Statistical_Discrepancy_in_GDP|Nominal|Undjusted|Domestic_Currency'],\n",
       "      dtype='object', name='Indicator')"
      ]
     },
     "execution_count": 16,
     "metadata": {},
     "output_type": "execute_result"
    }
   ],
   "source": [
    "df_gdp_current_unadjusted.columns"
   ]
  },
  {
   "cell_type": "code",
   "execution_count": 17,
   "metadata": {},
   "outputs": [
    {
     "data": {
      "text/plain": [
       "Index(['Time',\n",
       "       'Change_in_Inventories|Nominal|Seasonally_Adjusted|Domestic_Currency',\n",
       "       'Exports_of_Goods_and_Services|Nominal|Seasonally_Adjusted|Domestic_Currency',\n",
       "       'Government_Final_Consumption_Expenditure|Nominal|Seasonally_adjusted|Domestic_Currency',\n",
       "       'Gross_Domestic_Product|Nominal|Seasonally_Adjusted|Domestic_Currency',\n",
       "       'Gross_Fixed_Capital_Formation|Nominal|Seasonally_Adjusted|Domestic_Currency',\n",
       "       'Household_Consumption_Expenditure|incl._NPISHs|Nominal|Seasonally_Adjusted|Domestic_Currency',\n",
       "       'Imports_of_Goods_and_Services|Nominal|Seasonally_Adjusted|Domestic_Currency',\n",
       "       'Statistical_Discrepancy_in_GDP|Nominal|Seasonally_Adjusted|Domestic_Currency'],\n",
       "      dtype='object', name='Indicator')"
      ]
     },
     "execution_count": 17,
     "metadata": {},
     "output_type": "execute_result"
    }
   ],
   "source": [
    "df_gdp_current_adjusted.columns"
   ]
  },
  {
   "cell_type": "code",
   "execution_count": 18,
   "metadata": {},
   "outputs": [
    {
     "data": {
      "text/plain": [
       "Index(['Time',\n",
       "       'Change_in_Inventories|Real|Undjusted|Domestic_Currency|Base_Year-2010.0',\n",
       "       'Exports_of_Goods_and_Services|Real|Undjusted|Domestic_Currency|Base_Year-2010.0',\n",
       "       'Government_Consumption_Expenditure|Real|Undjusted|Domestic_Currency|Base_Year-2010.0',\n",
       "       'Gross_Domestic_Product|Real|Undjusted|Domestic_Currency|Base_Year-2010.0',\n",
       "       'Gross_Fixed_Capital_Formation|Real|Undjusted|Domestic_Currency|Base_Year-2010.0',\n",
       "       'Household_Consumption_Expenditure|incl._NPISHs|Real|Undjusted|Domestic_Currency|Base_Year-2010.0',\n",
       "       'Imports_of_Goods_and_Services|Real|Undjusted|Domestic_Currency|Base_Year-2010.0'],\n",
       "      dtype='object', name='Indicator')"
      ]
     },
     "execution_count": 18,
     "metadata": {},
     "output_type": "execute_result"
    }
   ],
   "source": [
    "df_gdp_constant_unadjusted.columns"
   ]
  },
  {
   "cell_type": "code",
   "execution_count": 19,
   "metadata": {},
   "outputs": [
    {
     "data": {
      "text/plain": [
       "Index(['Time',\n",
       "       'Change_in_Inventories|Real|Seasonally_Adjusted|Domestic_Currency|Base_Year-2010.0',\n",
       "       'Exports_of_Goods_and_Services|Real|Seasonally_Adjusted|Domestic_Currency|Base_Year-2010.0',\n",
       "       'Government_Final_Consumption_Expenditure|Real|Seasonally_adjusted|Domestic_Currency|Base_Year-2010.0',\n",
       "       'Gross_Domestic_Product|Deflator|Seasonally_Adjusted|Base_Year-2010.0',\n",
       "       'Gross_Domestic_Product|Real|Seasonally_Adjusted|Domestic_Currency|Base_Year-2010.0',\n",
       "       'Gross_Fixed_Capital_Formation|Real|Seasonally_Adjusted|Domestic_Currency|Base_Year-2010.0',\n",
       "       'Household_Consumption_Expenditure|incl._NPISHs|Real|Seasonally_Adjusted|Domestic_Currency|Base_Year-2010.0',\n",
       "       'Imports_of_Goods_and_Services|Real|Seasonally_Adjusted|Domestic_Currency|Base_Year-2010.0'],\n",
       "      dtype='object', name='Indicator')"
      ]
     },
     "execution_count": 19,
     "metadata": {},
     "output_type": "execute_result"
    }
   ],
   "source": [
    "df_gdp_constant_adjusted.columns"
   ]
  },
  {
   "cell_type": "code",
   "execution_count": 20,
   "metadata": {},
   "outputs": [
    {
     "data": {
      "text/plain": [
       "Index(['Time', 'Consumer_Confidence'], dtype='object')"
      ]
     },
     "execution_count": 20,
     "metadata": {},
     "output_type": "execute_result"
    }
   ],
   "source": [
    "df_consumer_confidence.columns"
   ]
  },
  {
   "cell_type": "code",
   "execution_count": 21,
   "metadata": {},
   "outputs": [
    {
     "data": {
      "text/plain": [
       "Index(['Time', 'Business_Confidence'], dtype='object')"
      ]
     },
     "execution_count": 21,
     "metadata": {},
     "output_type": "execute_result"
    }
   ],
   "source": [
    "df_business_confidence.columns"
   ]
  },
  {
   "cell_type": "code",
   "execution_count": 22,
   "metadata": {},
   "outputs": [
    {
     "data": {
      "text/plain": [
       "Index(['Time', 'Government_Bonds',\n",
       "       'Harmonized_Euro_Area_Rates|Loans|Households|Consumer_Credit_and_Other|Up_to_1_Year',\n",
       "       'Harmonized_Euro_Area_Rates|Loans|Households|House_Purchase|Over_5_Years',\n",
       "       'Harmonized_Euro_Area_Rates|Loans|Non-Financial_Corporations|Up_to_1_Year',\n",
       "       'Harmonized_Euro_Area_Rates|New_Business|Deposits|Households|Agreed_Maturity|Up_to_1_Year',\n",
       "       'Harmonized_Euro_Area_Rates|New_Business|Deposits|Non-financial_Corporations|Agreed_Maturity|Up_to_1_Year',\n",
       "       'Harmonized_Euro_Area_Rates|New_Business|Loans|Households|Consumption|Floating_Rate_and_up_to_1_Year',\n",
       "       'Harmonized_Euro_Area_Rates|New_Business|Loans|Households|House_Purchase|Over_5_Years',\n",
       "       'Harmonized_Euro_Area_Rates|Outstanding_Amounts|Deposits|Households|Agreed_Maturity|Up_to_2_Years',\n",
       "       'Harmonized_Euro_Area_Rates|Outstanding_Amounts|Deposits|Non-Financial_Corporations|Agreed_Maturity|Up_to_2_Years',\n",
       "       'Lending_Rate', 'Money_Market_Rate', 'Treasury_Bill_Rate'],\n",
       "      dtype='object', name='Indicator')"
      ]
     },
     "execution_count": 22,
     "metadata": {},
     "output_type": "execute_result"
    }
   ],
   "source": [
    "df_interest_rates.columns"
   ]
  },
  {
   "cell_type": "markdown",
   "metadata": {},
   "source": []
  }
 ],
 "metadata": {
  "kernelspec": {
   "display_name": "env-hackathon23_somnolence",
   "language": "python",
   "name": "python3"
  },
  "language_info": {
   "codemirror_mode": {
    "name": "ipython",
    "version": 3
   },
   "file_extension": ".py",
   "mimetype": "text/x-python",
   "name": "python",
   "nbconvert_exporter": "python",
   "pygments_lexer": "ipython3",
   "version": "3.11.3"
  },
  "orig_nbformat": 4
 },
 "nbformat": 4,
 "nbformat_minor": 2
}
