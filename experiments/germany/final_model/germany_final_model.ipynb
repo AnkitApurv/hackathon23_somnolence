{
 "cells": [
  {
   "cell_type": "markdown",
   "metadata": {},
   "source": [
    "# Germany - Final Model"
   ]
  },
  {
   "cell_type": "markdown",
   "metadata": {},
   "source": [
    "## Fetch Pre-requisites"
   ]
  },
  {
   "cell_type": "code",
   "execution_count": 1,
   "metadata": {},
   "outputs": [],
   "source": [
    "from typing import Tuple\n",
    "\n",
    "import logging\n",
    "\n",
    "import pandas\n",
    "\n",
    "from prophet import Prophet\n",
    "from prophet.serialize import model_to_json, model_from_json\n",
    "\n",
    "from sklearn.metrics import mean_squared_error"
   ]
  },
  {
   "cell_type": "code",
   "execution_count": 2,
   "metadata": {},
   "outputs": [],
   "source": [
    "logger = logging.getLogger('cmdstanpy')\n",
    "logger.addHandler(logging.NullHandler())\n",
    "logger.propagate = False\n",
    "logger.setLevel(logging.CRITICAL)\n",
    "\n",
    "logger = logging.getLogger('prophet')\n",
    "logger.addHandler(logging.NullHandler())\n",
    "logger.propagate = False\n",
    "logger.setLevel(logging.CRITICAL)\n",
    "\n",
    "logger = logging.getLogger('fbprophet')\n",
    "logger.addHandler(logging.NullHandler())\n",
    "logger.propagate = False\n",
    "logger.setLevel(logging.CRITICAL)"
   ]
  },
  {
   "cell_type": "code",
   "execution_count": 3,
   "metadata": {},
   "outputs": [],
   "source": [
    "country = 'germany'\n",
    "\n",
    "df = pandas.read_excel(io = f'../../../data/processed/{country}.xlsx')"
   ]
  },
  {
   "cell_type": "markdown",
   "metadata": {},
   "source": [
    "## Data Preparation"
   ]
  },
  {
   "cell_type": "code",
   "execution_count": 4,
   "metadata": {},
   "outputs": [],
   "source": [
    "def make_dataset(df_processed: pandas.DataFrame, df_covid_measures: pandas.DataFrame = pandas.DataFrame()) -> Tuple[pandas.DataFrame, pandas.DataFrame]:\n",
    "    df_mrd = df_processed[['Time', 'Unemployment_Rate_TOT']].rename(\n",
    "        columns = {'Time': 'ds', 'Unemployment_Rate_TOT': 'y'}\n",
    "    )\n",
    "    df_mrd = df_mrd.drop(index = df_mrd[pandas.isnull(df_mrd['y'])].index, inplace = False)\n",
    "    return df_mrd, df_covid_measures"
   ]
  },
  {
   "cell_type": "code",
   "execution_count": 5,
   "metadata": {},
   "outputs": [],
   "source": [
    "df_mrd, _ = make_dataset(df)"
   ]
  },
  {
   "cell_type": "code",
   "execution_count": 6,
   "metadata": {},
   "outputs": [],
   "source": [
    "def train_test_split(df_mrd: pandas.DataFrame, test_size: int = 12) -> Tuple[pandas.DataFrame, pandas.DataFrame]:\n",
    "    df_test = df_mrd.tail(test_size)\n",
    "    df_train = df_mrd.drop(index = df_mrd.tail(test_size).index, inplace = False)\n",
    "    return df_train, df_test"
   ]
  },
  {
   "cell_type": "code",
   "execution_count": 7,
   "metadata": {},
   "outputs": [],
   "source": [
    "df_train, df_test = train_test_split(df_mrd, 12)"
   ]
  },
  {
   "cell_type": "markdown",
   "metadata": {},
   "source": [
    "## Model Training and Testing"
   ]
  },
  {
   "cell_type": "code",
   "execution_count": 8,
   "metadata": {},
   "outputs": [],
   "source": [
    "model = Prophet().fit(df_train)"
   ]
  },
  {
   "cell_type": "code",
   "execution_count": 9,
   "metadata": {},
   "outputs": [],
   "source": [
    "def test_model(df_test: pandas.DataFrame, model: Prophet) -> Tuple[pandas.DataFrame, float]:\n",
    "    \"return predicted values and rmse\"\n",
    "    df_predicted: pandas.DataFrame = model.predict(df_test)\n",
    "    rmse: float = mean_squared_error(y_true = df_test['y'], y_pred = df_predicted['yhat'], squared = False)\n",
    "    return df_predicted, rmse"
   ]
  },
  {
   "cell_type": "code",
   "execution_count": 10,
   "metadata": {},
   "outputs": [],
   "source": [
    "df_predicted, rmse = test_model(df_test, model)"
   ]
  },
  {
   "cell_type": "code",
   "execution_count": 11,
   "metadata": {},
   "outputs": [
    {
     "data": {
      "text/html": [
       "<div>\n",
       "<style scoped>\n",
       "    .dataframe tbody tr th:only-of-type {\n",
       "        vertical-align: middle;\n",
       "    }\n",
       "\n",
       "    .dataframe tbody tr th {\n",
       "        vertical-align: top;\n",
       "    }\n",
       "\n",
       "    .dataframe thead th {\n",
       "        text-align: right;\n",
       "    }\n",
       "</style>\n",
       "<table border=\"1\" class=\"dataframe\">\n",
       "  <thead>\n",
       "    <tr style=\"text-align: right;\">\n",
       "      <th></th>\n",
       "      <th>ds</th>\n",
       "      <th>yhat</th>\n",
       "      <th>yhat_upper</th>\n",
       "      <th>yhat_lower</th>\n",
       "    </tr>\n",
       "  </thead>\n",
       "  <tbody>\n",
       "    <tr>\n",
       "      <th>0</th>\n",
       "      <td>2022-03-01</td>\n",
       "      <td>3.140839</td>\n",
       "      <td>3.518895</td>\n",
       "      <td>2.744342</td>\n",
       "    </tr>\n",
       "    <tr>\n",
       "      <th>1</th>\n",
       "      <td>2022-04-01</td>\n",
       "      <td>3.116249</td>\n",
       "      <td>3.536859</td>\n",
       "      <td>2.762620</td>\n",
       "    </tr>\n",
       "    <tr>\n",
       "      <th>2</th>\n",
       "      <td>2022-05-01</td>\n",
       "      <td>3.073837</td>\n",
       "      <td>3.443537</td>\n",
       "      <td>2.709330</td>\n",
       "    </tr>\n",
       "    <tr>\n",
       "      <th>3</th>\n",
       "      <td>2022-06-01</td>\n",
       "      <td>3.063025</td>\n",
       "      <td>3.437324</td>\n",
       "      <td>2.664636</td>\n",
       "    </tr>\n",
       "    <tr>\n",
       "      <th>4</th>\n",
       "      <td>2022-07-01</td>\n",
       "      <td>3.051551</td>\n",
       "      <td>3.430613</td>\n",
       "      <td>2.636729</td>\n",
       "    </tr>\n",
       "    <tr>\n",
       "      <th>5</th>\n",
       "      <td>2022-08-01</td>\n",
       "      <td>3.046084</td>\n",
       "      <td>3.413936</td>\n",
       "      <td>2.626206</td>\n",
       "    </tr>\n",
       "    <tr>\n",
       "      <th>6</th>\n",
       "      <td>2022-09-01</td>\n",
       "      <td>3.044429</td>\n",
       "      <td>3.422596</td>\n",
       "      <td>2.655875</td>\n",
       "    </tr>\n",
       "    <tr>\n",
       "      <th>7</th>\n",
       "      <td>2022-10-01</td>\n",
       "      <td>3.037130</td>\n",
       "      <td>3.450356</td>\n",
       "      <td>2.625059</td>\n",
       "    </tr>\n",
       "    <tr>\n",
       "      <th>8</th>\n",
       "      <td>2022-11-01</td>\n",
       "      <td>3.015104</td>\n",
       "      <td>3.389279</td>\n",
       "      <td>2.610453</td>\n",
       "    </tr>\n",
       "    <tr>\n",
       "      <th>9</th>\n",
       "      <td>2022-12-01</td>\n",
       "      <td>3.000395</td>\n",
       "      <td>3.409444</td>\n",
       "      <td>2.597934</td>\n",
       "    </tr>\n",
       "    <tr>\n",
       "      <th>10</th>\n",
       "      <td>2023-01-01</td>\n",
       "      <td>2.961239</td>\n",
       "      <td>3.368282</td>\n",
       "      <td>2.556734</td>\n",
       "    </tr>\n",
       "    <tr>\n",
       "      <th>11</th>\n",
       "      <td>2023-02-01</td>\n",
       "      <td>2.958492</td>\n",
       "      <td>3.347298</td>\n",
       "      <td>2.536806</td>\n",
       "    </tr>\n",
       "  </tbody>\n",
       "</table>\n",
       "</div>"
      ],
      "text/plain": [
       "           ds      yhat  yhat_upper  yhat_lower\n",
       "0  2022-03-01  3.140839    3.518895    2.744342\n",
       "1  2022-04-01  3.116249    3.536859    2.762620\n",
       "2  2022-05-01  3.073837    3.443537    2.709330\n",
       "3  2022-06-01  3.063025    3.437324    2.664636\n",
       "4  2022-07-01  3.051551    3.430613    2.636729\n",
       "5  2022-08-01  3.046084    3.413936    2.626206\n",
       "6  2022-09-01  3.044429    3.422596    2.655875\n",
       "7  2022-10-01  3.037130    3.450356    2.625059\n",
       "8  2022-11-01  3.015104    3.389279    2.610453\n",
       "9  2022-12-01  3.000395    3.409444    2.597934\n",
       "10 2023-01-01  2.961239    3.368282    2.556734\n",
       "11 2023-02-01  2.958492    3.347298    2.536806"
      ]
     },
     "execution_count": 11,
     "metadata": {},
     "output_type": "execute_result"
    }
   ],
   "source": [
    "df_predicted[['ds', 'yhat', 'yhat_upper', 'yhat_lower']]"
   ]
  },
  {
   "cell_type": "code",
   "execution_count": 12,
   "metadata": {},
   "outputs": [
    {
     "data": {
      "text/plain": [
       "0.07215052847565874"
      ]
     },
     "execution_count": 12,
     "metadata": {},
     "output_type": "execute_result"
    }
   ],
   "source": [
    "rmse"
   ]
  },
  {
   "cell_type": "markdown",
   "metadata": {},
   "source": [
    "## Final Model"
   ]
  },
  {
   "cell_type": "code",
   "execution_count": 13,
   "metadata": {},
   "outputs": [],
   "source": [
    "model = Prophet().fit(df_mrd)"
   ]
  },
  {
   "cell_type": "markdown",
   "metadata": {},
   "source": [
    "### Save Model"
   ]
  },
  {
   "cell_type": "code",
   "execution_count": 14,
   "metadata": {},
   "outputs": [],
   "source": [
    "with open(f'{country}_final_model.json', 'w') as f:\n",
    "    f.write(model_to_json(model))"
   ]
  },
  {
   "cell_type": "markdown",
   "metadata": {},
   "source": [
    "## Final Results"
   ]
  },
  {
   "cell_type": "code",
   "execution_count": 15,
   "metadata": {},
   "outputs": [],
   "source": [
    "df_future = pandas.DataFrame(data = {'ds': ['2023-03-01', '2023-04-01', '2023-05-01']})"
   ]
  },
  {
   "cell_type": "code",
   "execution_count": 16,
   "metadata": {},
   "outputs": [],
   "source": [
    "df_future_prediction: pandas.DataFrame = model.predict(df_future)"
   ]
  },
  {
   "cell_type": "code",
   "execution_count": 17,
   "metadata": {},
   "outputs": [
    {
     "data": {
      "text/html": [
       "<div>\n",
       "<style scoped>\n",
       "    .dataframe tbody tr th:only-of-type {\n",
       "        vertical-align: middle;\n",
       "    }\n",
       "\n",
       "    .dataframe tbody tr th {\n",
       "        vertical-align: top;\n",
       "    }\n",
       "\n",
       "    .dataframe thead th {\n",
       "        text-align: right;\n",
       "    }\n",
       "</style>\n",
       "<table border=\"1\" class=\"dataframe\">\n",
       "  <thead>\n",
       "    <tr style=\"text-align: right;\">\n",
       "      <th></th>\n",
       "      <th>ds</th>\n",
       "      <th>yhat</th>\n",
       "      <th>yhat_upper</th>\n",
       "      <th>yhat_lower</th>\n",
       "    </tr>\n",
       "  </thead>\n",
       "  <tbody>\n",
       "    <tr>\n",
       "      <th>0</th>\n",
       "      <td>2023-03-01</td>\n",
       "      <td>3.123132</td>\n",
       "      <td>3.453620</td>\n",
       "      <td>2.779315</td>\n",
       "    </tr>\n",
       "    <tr>\n",
       "      <th>1</th>\n",
       "      <td>2023-04-01</td>\n",
       "      <td>3.071937</td>\n",
       "      <td>3.437925</td>\n",
       "      <td>2.723891</td>\n",
       "    </tr>\n",
       "    <tr>\n",
       "      <th>2</th>\n",
       "      <td>2023-05-01</td>\n",
       "      <td>2.996328</td>\n",
       "      <td>3.340550</td>\n",
       "      <td>2.604131</td>\n",
       "    </tr>\n",
       "  </tbody>\n",
       "</table>\n",
       "</div>"
      ],
      "text/plain": [
       "          ds      yhat  yhat_upper  yhat_lower\n",
       "0 2023-03-01  3.123132    3.453620    2.779315\n",
       "1 2023-04-01  3.071937    3.437925    2.723891\n",
       "2 2023-05-01  2.996328    3.340550    2.604131"
      ]
     },
     "execution_count": 17,
     "metadata": {},
     "output_type": "execute_result"
    }
   ],
   "source": [
    "df_future_prediction[['ds', 'yhat', 'yhat_upper', 'yhat_lower']]"
   ]
  }
 ],
 "metadata": {
  "kernelspec": {
   "display_name": "Python 3 (ipykernel)",
   "language": "python",
   "name": "python3"
  },
  "language_info": {
   "codemirror_mode": {
    "name": "ipython",
    "version": 3
   },
   "file_extension": ".py",
   "mimetype": "text/x-python",
   "name": "python",
   "nbconvert_exporter": "python",
   "pygments_lexer": "ipython3",
   "version": "3.10.10"
  }
 },
 "nbformat": 4,
 "nbformat_minor": 4
}
