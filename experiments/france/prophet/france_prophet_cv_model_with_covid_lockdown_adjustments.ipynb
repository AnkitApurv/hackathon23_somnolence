{
 "cells": [
  {
   "cell_type": "code",
   "execution_count": 1,
   "metadata": {},
   "outputs": [],
   "source": [
    "from typing import Tuple\n",
    "\n",
    "import itertools\n",
    "import logging\n",
    "\n",
    "import numpy\n",
    "import pandas\n",
    "\n",
    "from matplotlib import pyplot as plt\n",
    "\n",
    "from prophet import Prophet\n",
    "from prophet.diagnostics import cross_validation, performance_metrics\n",
    "from prophet.serialize import model_to_json, model_from_json\n",
    "\n",
    "from sklearn.metrics import mean_squared_error"
   ]
  },
  {
   "cell_type": "code",
   "execution_count": 2,
   "metadata": {},
   "outputs": [],
   "source": [
    "logger = logging.getLogger('cmdstanpy')\n",
    "logger.addHandler(logging.NullHandler())\n",
    "logger.propagate = False\n",
    "logger.setLevel(logging.CRITICAL)\n",
    "\n",
    "logger = logging.getLogger('prophet')\n",
    "logger.addHandler(logging.NullHandler())\n",
    "logger.propagate = False\n",
    "logger.setLevel(logging.CRITICAL)\n",
    "\n",
    "logger = logging.getLogger('fbprophet')\n",
    "logger.addHandler(logging.NullHandler())\n",
    "logger.propagate = False\n",
    "logger.setLevel(logging.CRITICAL)"
   ]
  },
  {
   "cell_type": "code",
   "execution_count": 3,
   "metadata": {},
   "outputs": [],
   "source": [
    "country = 'france'\n",
    "\n",
    "df = pandas.read_excel(io = f'../../../data/processed/{country}.xlsx')\n",
    "df_covid_measures = pandas.read_csv(\n",
    "    filepath_or_buffer = f'../../../data/intermediate/{country}/government_covid_measures.csv'\n",
    ")"
   ]
  },
  {
   "cell_type": "code",
   "execution_count": 4,
   "metadata": {},
   "outputs": [],
   "source": [
    "df_covid_workplace_lockdowns = df_covid_measures[['date', 'workplace_closing']]\n",
    "df_covid_workplace_lockdowns.to_csv('covid_workplace_lockdowns.csv', index = False)"
   ]
  },
  {
   "cell_type": "code",
   "execution_count": 5,
   "metadata": {},
   "outputs": [],
   "source": [
    "def make_dataset(df_processed: pandas.DataFrame, df_covid_measures: pandas.DataFrame = pandas.DataFrame()) -> Tuple[pandas.DataFrame, pandas.DataFrame]:\n",
    "    df_mrd = df_processed[['Time', 'Unemployment_Rate_TOT']].rename(\n",
    "        columns = {'Time': 'ds', 'Unemployment_Rate_TOT': 'y'}\n",
    "    )\n",
    "    df_mrd = df_mrd.drop(index = df_mrd[pandas.isnull(df_mrd['y'])].index, inplace = False)\n",
    "\n",
    "    # manually created from df_covid_workplace_lockdowns\n",
    "    df_workplace_lockdowns = pandas.DataFrame([\n",
    "        {'holiday': 'lockdown_1_1', 'ds': '2020-06-22', 'lower_window': 0, 'ds_upper': '2020-08-13'},\n",
    "        {'holiday': 'lockdown_2_1', 'ds': '2022-03-14', 'lower_window': 0, 'ds_upper': '2022-06-19'},\n",
    "        {'holiday': 'lockdown_2_2', 'ds': '2020-05-11', 'lower_window': 0, 'ds_upper': '2020-06-21'},\n",
    "        {'holiday': 'lockdown_2_3', 'ds': '2020-08-14', 'lower_window': 0, 'ds_upper': '2020-10-29'},\n",
    "        {'holiday': 'lockdown_2_4', 'ds': '2020-11-28', 'lower_window': 0, 'ds_upper': '2021-02-25'},\n",
    "        {'holiday': 'lockdown_2_5', 'ds': '2021-03-02', 'lower_window': 0, 'ds_upper': '2021-03-04'},\n",
    "        {'holiday': 'lockdown_2_6', 'ds': '2021-04-03', 'lower_window': 0, 'ds_upper': '2021-05-02'},\n",
    "        {'holiday': 'lockdown_2_7', 'ds': '2021-05-19', 'lower_window': 0, 'ds_upper': '2022-03-13'},\n",
    "        {'holiday': 'lockdown_3_1', 'ds': '2020-03-17', 'lower_window': 0, 'ds_upper': '2020-05-10'},\n",
    "        {'holiday': 'lockdown_3_2', 'ds': '2020-10-30', 'lower_window': 0, 'ds_upper': '2020-11-27'},\n",
    "        {'holiday': 'lockdown_3_3', 'ds': '2021-02-26', 'lower_window': 0, 'ds_upper': '2021-03-01'},\n",
    "        {'holiday': 'lockdown_3_4', 'ds': '2021-03-05', 'lower_window': 0, 'ds_upper': '2021-04-02'},\n",
    "        {'holiday': 'lockdown_3_5', 'ds': '2021-05-03', 'lower_window': 0, 'ds_upper': '2021-05-18'},\n",
    "    ])\n",
    "    for t_col in ['ds', 'ds_upper']:\n",
    "        df_workplace_lockdowns[t_col] = pandas.to_datetime(df_workplace_lockdowns[t_col], format = '%Y-%m-%d')\n",
    "    df_workplace_lockdowns['upper_window'] = (df_workplace_lockdowns['ds_upper'] - df_workplace_lockdowns['ds']).dt.days\n",
    "    df_workplace_lockdowns = df_workplace_lockdowns.sort_values(by = 'ds', axis = 'index', ascending = True, inplace= False)\n",
    "\n",
    "    return df_mrd, df_workplace_lockdowns"
   ]
  },
  {
   "cell_type": "code",
   "execution_count": 6,
   "metadata": {},
   "outputs": [],
   "source": [
    "df_mrd, df_workplace_lockdowns = make_dataset(df)"
   ]
  },
  {
   "cell_type": "code",
   "execution_count": 7,
   "metadata": {},
   "outputs": [],
   "source": [
    "def train_test_split(df_mrd: pandas.DataFrame, test_size: int = 12) -> Tuple[pandas.DataFrame, pandas.DataFrame]:\n",
    "    df_test = df_mrd.tail(test_size)\n",
    "    df_train = df_mrd.drop(index = df_mrd.tail(test_size).index, inplace = False)\n",
    "    return df_train, df_test"
   ]
  },
  {
   "cell_type": "code",
   "execution_count": 8,
   "metadata": {},
   "outputs": [],
   "source": [
    "df_train, df_test = train_test_split(df_mrd, 12)"
   ]
  },
  {
   "cell_type": "code",
   "execution_count": 9,
   "metadata": {},
   "outputs": [],
   "source": [
    "def train_model(df: pandas.DataFrame, df_holidays: pandas.DataFrame, param_grid: dict, eval_metric: str = 'rmse'):\n",
    "\n",
    "    # Generate all combinations of parameters\n",
    "    all_params = [dict(zip(param_grid.keys(), v)) for v in itertools.product(*param_grid.values())]\n",
    "    eval_metric_values = []  # Store the eval_metric_values for each params here\n",
    "\n",
    "    # other params\n",
    "    model_params = {\n",
    "        'growth': 'linear', 'seasonality_mode': 'additive', 'holidays': df_holidays,\n",
    "        \"changepoint_range\": 0.9, \"yearly_seasonality\": \"auto\"}\n",
    "    cv_params = {'horizon': '30 days', 'parallel': 'processes'}\n",
    "    pm_params = {'rolling_window': 1}\n",
    "\n",
    "    print(f'Total hyper-parameter set count: {len(all_params)}')\n",
    "\n",
    "    # Use cross validation to evaluate all parameters\n",
    "    iteration_count: int = 1\n",
    "    for hyper_params in all_params:\n",
    "        print(f'Set: {iteration_count}')\n",
    "        print(f'{hyper_params}')\n",
    "\n",
    "        m = Prophet(**hyper_params, **model_params).fit(df)\n",
    "        df_cv = cross_validation(m, **cv_params)\n",
    "        df_p = performance_metrics(df_cv, **pm_params)\n",
    "        eval_metric_values.append(df_p[eval_metric].values[0])\n",
    "\n",
    "        print(f'{eval_metric.upper()}: {df_p[eval_metric].values[0]}')\n",
    "        iteration_count += 1\n",
    "        print()\n",
    "\n",
    "    best_params = all_params[numpy.argmin(eval_metric_values)]\n",
    "\n",
    "    print('Training model on the best hyper-parameter set.')\n",
    "    print(f'{best_params}')\n",
    "    \n",
    "    auto_model = Prophet(**best_params, **model_params).fit(df)\n",
    "\n",
    "    print('Cross-Validating best model.')\n",
    "    auto_model_cv = cross_validation(auto_model, **cv_params)\n",
    "    auto_model_p = performance_metrics(auto_model_cv, **pm_params)\n",
    "\n",
    "    return auto_model, auto_model_p, best_params"
   ]
  },
  {
   "cell_type": "code",
   "execution_count": 10,
   "metadata": {},
   "outputs": [
    {
     "name": "stdout",
     "output_type": "stream",
     "text": [
      "Total hyper-parameter set count: 8\n",
      "Set: 1\n",
      "{'changepoint_prior_scale': 0.5, 'seasonality_prior_scale': 0.1, 'holidays_prior_scale': 0.1}\n"
     ]
    }
   ],
   "source": [
    "param_grid = {  \n",
    "    'changepoint_prior_scale': [0.1, 0.5, 0.75, 0.9],\n",
    "    'seasonality_prior_scale': [0.1, 1.0],\n",
    "    'yearly_seasonality': [True, False],\n",
    "}\n",
    "\n",
    "# auto_model, auto_model_p, best_params = train_model(df_train, df_workplace_lockdowns, param_grid)\n",
    "auto_model, auto_model_p, best_params = train_model(df_train, df_workplace_lockdowns, param_grid)"
   ]
  },
  {
   "cell_type": "code",
   "execution_count": null,
   "metadata": {},
   "outputs": [],
   "source": [
    "def test_model(df_test: pandas.DataFrame, model: Prophet) -> Tuple[pandas.DataFrame, float]:\n",
    "    \"return predicted values and rmse\"\n",
    "    df_predicted: pandas.DataFrame = model.predict(df_test)\n",
    "    rmse: float = mean_squared_error(y_true = df_test['y'], y_pred = df_predicted['yhat'], squared = False)\n",
    "    return df_predicted, rmse"
   ]
  },
  {
   "cell_type": "code",
   "execution_count": null,
   "metadata": {},
   "outputs": [],
   "source": [
    "df_predicted, rmse = test_model(df_test, auto_model)"
   ]
  },
  {
   "cell_type": "code",
   "execution_count": null,
   "metadata": {},
   "outputs": [],
   "source": [
    "df_predicted"
   ]
  },
  {
   "cell_type": "code",
   "execution_count": null,
   "metadata": {},
   "outputs": [],
   "source": [
    "rmse"
   ]
  },
  {
   "cell_type": "code",
   "execution_count": null,
   "metadata": {},
   "outputs": [],
   "source": [
    "with open('france_prophet_lockdowns_optimized_model.json', 'w') as f:\n",
    "    f.write(model_to_json(auto_model))"
   ]
  },
  {
   "cell_type": "code",
   "execution_count": null,
   "metadata": {},
   "outputs": [],
   "source": [
    "df_future = pandas.DataFrame(data = {'ds': ['2023-03-01', '2023-04-01', '2023-05-01']})"
   ]
  },
  {
   "cell_type": "code",
   "execution_count": null,
   "metadata": {},
   "outputs": [],
   "source": [
    "df_future_prediction: pandas.DataFrame = auto_model.predict(df_future)"
   ]
  },
  {
   "cell_type": "code",
   "execution_count": null,
   "metadata": {},
   "outputs": [],
   "source": [
    "df_future_prediction"
   ]
  },
  {
   "cell_type": "code",
   "execution_count": null,
   "metadata": {},
   "outputs": [],
   "source": []
  }
 ],
 "metadata": {
  "kernelspec": {
   "display_name": "env-hackathon23_somnolence",
   "language": "python",
   "name": "python3"
  },
  "language_info": {
   "codemirror_mode": {
    "name": "ipython",
    "version": 3
   },
   "file_extension": ".py",
   "mimetype": "text/x-python",
   "name": "python",
   "nbconvert_exporter": "python",
   "pygments_lexer": "ipython3",
   "version": "3.11.3"
  },
  "orig_nbformat": 4
 },
 "nbformat": 4,
 "nbformat_minor": 2
}
