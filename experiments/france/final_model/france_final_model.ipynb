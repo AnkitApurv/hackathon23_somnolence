{
 "cells": [
  {
   "cell_type": "markdown",
   "metadata": {},
   "source": [
    "# France - Final Model"
   ]
  },
  {
   "cell_type": "markdown",
   "metadata": {},
   "source": [
    "## Fetch Pre-requisites"
   ]
  },
  {
   "cell_type": "code",
   "execution_count": 1,
   "metadata": {},
   "outputs": [],
   "source": [
    "from typing import Tuple\n",
    "\n",
    "import itertools\n",
    "import logging\n",
    "\n",
    "import pandas\n",
    "\n",
    "from prophet import Prophet\n",
    "from prophet.diagnostics import cross_validation, performance_metrics\n",
    "from prophet.serialize import model_to_json, model_from_json\n",
    "\n",
    "from sklearn.metrics import mean_squared_error"
   ]
  },
  {
   "cell_type": "code",
   "execution_count": 2,
   "metadata": {},
   "outputs": [],
   "source": [
    "logger = logging.getLogger('cmdstanpy')\n",
    "logger.addHandler(logging.NullHandler())\n",
    "logger.propagate = False\n",
    "logger.setLevel(logging.CRITICAL)\n",
    "\n",
    "logger = logging.getLogger('prophet')\n",
    "logger.addHandler(logging.NullHandler())\n",
    "logger.propagate = False\n",
    "logger.setLevel(logging.CRITICAL)\n",
    "\n",
    "logger = logging.getLogger('fbprophet')\n",
    "logger.addHandler(logging.NullHandler())\n",
    "logger.propagate = False\n",
    "logger.setLevel(logging.CRITICAL)"
   ]
  },
  {
   "cell_type": "code",
   "execution_count": 3,
   "metadata": {},
   "outputs": [],
   "source": [
    "country = 'france'\n",
    "\n",
    "df = pandas.read_excel(io = f'../../../data/processed/{country}.xlsx')"
   ]
  },
  {
   "cell_type": "markdown",
   "metadata": {},
   "source": [
    "## Data Preparation"
   ]
  },
  {
   "cell_type": "code",
   "execution_count": 4,
   "metadata": {},
   "outputs": [],
   "source": [
    "def make_dataset(df_processed: pandas.DataFrame, df_covid_measures: pandas.DataFrame = pandas.DataFrame()) -> Tuple[pandas.DataFrame, pandas.DataFrame]:\n",
    "    df_mrd = df_processed[['Time', 'Unemployment_Rate_TOT']].rename(\n",
    "        columns = {'Time': 'ds', 'Unemployment_Rate_TOT': 'y'}\n",
    "    )\n",
    "    df_mrd = df_mrd.drop(index = df_mrd[pandas.isnull(df_mrd['y'])].index, inplace = False)\n",
    "    df_covid_holidays = pandas.DataFrame()\n",
    "    return df_mrd, df_covid_holidays"
   ]
  },
  {
   "cell_type": "code",
   "execution_count": 5,
   "metadata": {},
   "outputs": [],
   "source": [
    "df_mrd, _ = make_dataset(df)"
   ]
  },
  {
   "cell_type": "code",
   "execution_count": 6,
   "metadata": {},
   "outputs": [],
   "source": [
    "def train_test_split(df_mrd: pandas.DataFrame, test_size: int = 12) -> Tuple[pandas.DataFrame, pandas.DataFrame]:\n",
    "    df_test = df_mrd.tail(test_size)\n",
    "    df_train = df_mrd.drop(index = df_mrd.tail(test_size).index, inplace = False)\n",
    "    return df_train, df_test"
   ]
  },
  {
   "cell_type": "code",
   "execution_count": 7,
   "metadata": {},
   "outputs": [],
   "source": [
    "df_train, df_test = train_test_split(df_mrd, 12)"
   ]
  },
  {
   "cell_type": "markdown",
   "metadata": {},
   "source": [
    "## Model Training and Testing"
   ]
  },
  {
   "cell_type": "code",
   "execution_count": 8,
   "metadata": {},
   "outputs": [],
   "source": [
    "def train_model(df: pandas.DataFrame, param_grid: dict, eval_metric: str = 'rmse', eval_metric_optimize: str = 'min'):\n",
    "    # Generate all combinations of parameters\n",
    "    all_params = [dict(zip(param_grid.keys(), v)) for v in itertools.product(*param_grid.values())]\n",
    "    eval_metric_values = []  # Store the eval_metric_values for each params here\n",
    "\n",
    "    # Use cross validation to evaluate all parameters\n",
    "    for params in all_params:\n",
    "        m = Prophet(**params, interval_width=0.95).fit(df)  # Fit model with given params\n",
    "        df_cv = cross_validation(m, horizon = '60 days', parallel=\"processes\")\n",
    "        df_p = performance_metrics(df_cv, rolling_window=1, monthly=True)\n",
    "        eval_metric_values.append(df_p[eval_metric].values[0])\n",
    "\n",
    "    # Find the best parameters\n",
    "    tuning_results = pandas.DataFrame(all_params)\n",
    "    tuning_results[eval_metric] = eval_metric_values\n",
    "\n",
    "    tuning_results.sort_values(by = eval_metric, axis = 'index', ascending = True, inplace = True)\n",
    "    best_params = {}\n",
    "    if eval_metric_optimize == 'min':\n",
    "        best_params = tuning_results.iloc[0].to_dict()\n",
    "    elif eval_metric_optimize == 'max':\n",
    "        best_params = tuning_results.iloc[-1].to_dict()\n",
    "    else:\n",
    "        raise ValueError(\"Invalid Parameter Value: param 'eval_metric_optimize' may only have values 'min' or 'max'.\")\n",
    "\n",
    "\n",
    "    optimal_model = Prophet(**params, interval_width=0.95).fit(df)\n",
    "    return optimal_model"
   ]
  },
  {
   "cell_type": "code",
   "execution_count": 9,
   "metadata": {},
   "outputs": [],
   "source": [
    "param_grid = {  \n",
    "    'changepoint_prior_scale': [0.001, 0.01, 0.1, 0.5],\n",
    "    'seasonality_prior_scale': [0.01, 0.1, 1.0, 10.0],\n",
    "}\n",
    "\n",
    "model = train_model(df_train, param_grid)"
   ]
  },
  {
   "cell_type": "code",
   "execution_count": 10,
   "metadata": {},
   "outputs": [],
   "source": [
    "def test_model(df_test: pandas.DataFrame, model):\n",
    "    \"return predicted values and rmse\"\n",
    "    df_predicted = model.predict(df_test)\n",
    "    rmse = mean_squared_error(y_true = df_test['y'], y_pred = df_predicted['yhat'], squared = False)\n",
    "    return df_predicted, rmse"
   ]
  },
  {
   "cell_type": "code",
   "execution_count": 11,
   "metadata": {},
   "outputs": [],
   "source": [
    "df_predicted, rmse = test_model(df_test, model)"
   ]
  },
  {
   "cell_type": "code",
   "execution_count": 12,
   "metadata": {},
   "outputs": [
    {
     "data": {
      "text/html": [
       "<div>\n",
       "<style scoped>\n",
       "    .dataframe tbody tr th:only-of-type {\n",
       "        vertical-align: middle;\n",
       "    }\n",
       "\n",
       "    .dataframe tbody tr th {\n",
       "        vertical-align: top;\n",
       "    }\n",
       "\n",
       "    .dataframe thead th {\n",
       "        text-align: right;\n",
       "    }\n",
       "</style>\n",
       "<table border=\"1\" class=\"dataframe\">\n",
       "  <thead>\n",
       "    <tr style=\"text-align: right;\">\n",
       "      <th></th>\n",
       "      <th>ds</th>\n",
       "      <th>yhat</th>\n",
       "      <th>yhat_upper</th>\n",
       "      <th>yhat_lower</th>\n",
       "    </tr>\n",
       "  </thead>\n",
       "  <tbody>\n",
       "    <tr>\n",
       "      <th>0</th>\n",
       "      <td>2022-03-01</td>\n",
       "      <td>7.447797</td>\n",
       "      <td>7.878150</td>\n",
       "      <td>7.054356</td>\n",
       "    </tr>\n",
       "    <tr>\n",
       "      <th>1</th>\n",
       "      <td>2022-04-01</td>\n",
       "      <td>7.406294</td>\n",
       "      <td>7.776836</td>\n",
       "      <td>7.018766</td>\n",
       "    </tr>\n",
       "    <tr>\n",
       "      <th>2</th>\n",
       "      <td>2022-05-01</td>\n",
       "      <td>7.379924</td>\n",
       "      <td>7.779443</td>\n",
       "      <td>6.955099</td>\n",
       "    </tr>\n",
       "    <tr>\n",
       "      <th>3</th>\n",
       "      <td>2022-06-01</td>\n",
       "      <td>7.360605</td>\n",
       "      <td>7.830526</td>\n",
       "      <td>6.935245</td>\n",
       "    </tr>\n",
       "    <tr>\n",
       "      <th>4</th>\n",
       "      <td>2022-07-01</td>\n",
       "      <td>7.360297</td>\n",
       "      <td>7.836046</td>\n",
       "      <td>6.886344</td>\n",
       "    </tr>\n",
       "    <tr>\n",
       "      <th>5</th>\n",
       "      <td>2022-08-01</td>\n",
       "      <td>7.317266</td>\n",
       "      <td>7.807194</td>\n",
       "      <td>6.824332</td>\n",
       "    </tr>\n",
       "    <tr>\n",
       "      <th>6</th>\n",
       "      <td>2022-09-01</td>\n",
       "      <td>7.290787</td>\n",
       "      <td>7.885154</td>\n",
       "      <td>6.766877</td>\n",
       "    </tr>\n",
       "    <tr>\n",
       "      <th>7</th>\n",
       "      <td>2022-10-01</td>\n",
       "      <td>7.253303</td>\n",
       "      <td>7.901592</td>\n",
       "      <td>6.579447</td>\n",
       "    </tr>\n",
       "    <tr>\n",
       "      <th>8</th>\n",
       "      <td>2022-11-01</td>\n",
       "      <td>7.237611</td>\n",
       "      <td>8.076996</td>\n",
       "      <td>6.565069</td>\n",
       "    </tr>\n",
       "    <tr>\n",
       "      <th>9</th>\n",
       "      <td>2022-12-01</td>\n",
       "      <td>7.202758</td>\n",
       "      <td>8.036206</td>\n",
       "      <td>6.425145</td>\n",
       "    </tr>\n",
       "    <tr>\n",
       "      <th>10</th>\n",
       "      <td>2023-01-01</td>\n",
       "      <td>7.161637</td>\n",
       "      <td>8.390750</td>\n",
       "      <td>6.250066</td>\n",
       "    </tr>\n",
       "    <tr>\n",
       "      <th>11</th>\n",
       "      <td>2023-02-01</td>\n",
       "      <td>7.096093</td>\n",
       "      <td>8.287419</td>\n",
       "      <td>5.970413</td>\n",
       "    </tr>\n",
       "  </tbody>\n",
       "</table>\n",
       "</div>"
      ],
      "text/plain": [
       "           ds      yhat  yhat_upper  yhat_lower\n",
       "0  2022-03-01  7.447797    7.878150    7.054356\n",
       "1  2022-04-01  7.406294    7.776836    7.018766\n",
       "2  2022-05-01  7.379924    7.779443    6.955099\n",
       "3  2022-06-01  7.360605    7.830526    6.935245\n",
       "4  2022-07-01  7.360297    7.836046    6.886344\n",
       "5  2022-08-01  7.317266    7.807194    6.824332\n",
       "6  2022-09-01  7.290787    7.885154    6.766877\n",
       "7  2022-10-01  7.253303    7.901592    6.579447\n",
       "8  2022-11-01  7.237611    8.076996    6.565069\n",
       "9  2022-12-01  7.202758    8.036206    6.425145\n",
       "10 2023-01-01  7.161637    8.390750    6.250066\n",
       "11 2023-02-01  7.096093    8.287419    5.970413"
      ]
     },
     "execution_count": 12,
     "metadata": {},
     "output_type": "execute_result"
    }
   ],
   "source": [
    "df_predicted[['ds', 'yhat', 'yhat_upper', 'yhat_lower']]"
   ]
  },
  {
   "cell_type": "code",
   "execution_count": 13,
   "metadata": {},
   "outputs": [
    {
     "data": {
      "text/plain": [
       "0.09831839132623509"
      ]
     },
     "execution_count": 13,
     "metadata": {},
     "output_type": "execute_result"
    }
   ],
   "source": [
    "rmse"
   ]
  },
  {
   "cell_type": "markdown",
   "metadata": {},
   "source": [
    "## Final Model"
   ]
  },
  {
   "cell_type": "code",
   "execution_count": 14,
   "metadata": {},
   "outputs": [],
   "source": [
    "model = train_model(df_mrd, param_grid)"
   ]
  },
  {
   "cell_type": "markdown",
   "metadata": {},
   "source": [
    "### Save Model"
   ]
  },
  {
   "cell_type": "code",
   "execution_count": 15,
   "metadata": {},
   "outputs": [],
   "source": [
    "with open(f'{country}_final_model.json', 'w') as f:\n",
    "    f.write(model_to_json(model))"
   ]
  },
  {
   "cell_type": "markdown",
   "metadata": {},
   "source": [
    "## Final Results"
   ]
  },
  {
   "cell_type": "code",
   "execution_count": 16,
   "metadata": {},
   "outputs": [],
   "source": [
    "df_future = pandas.DataFrame(data = {'ds': ['2023-03-01', '2023-04-01', '2023-05-01']})"
   ]
  },
  {
   "cell_type": "code",
   "execution_count": 17,
   "metadata": {},
   "outputs": [],
   "source": [
    "df_future_prediction = model.predict(df_future)"
   ]
  },
  {
   "cell_type": "code",
   "execution_count": 18,
   "metadata": {},
   "outputs": [
    {
     "data": {
      "text/html": [
       "<div>\n",
       "<style scoped>\n",
       "    .dataframe tbody tr th:only-of-type {\n",
       "        vertical-align: middle;\n",
       "    }\n",
       "\n",
       "    .dataframe tbody tr th {\n",
       "        vertical-align: top;\n",
       "    }\n",
       "\n",
       "    .dataframe thead th {\n",
       "        text-align: right;\n",
       "    }\n",
       "</style>\n",
       "<table border=\"1\" class=\"dataframe\">\n",
       "  <thead>\n",
       "    <tr style=\"text-align: right;\">\n",
       "      <th></th>\n",
       "      <th>ds</th>\n",
       "      <th>yhat</th>\n",
       "      <th>yhat_upper</th>\n",
       "      <th>yhat_lower</th>\n",
       "    </tr>\n",
       "  </thead>\n",
       "  <tbody>\n",
       "    <tr>\n",
       "      <th>0</th>\n",
       "      <td>2023-03-01</td>\n",
       "      <td>6.969797</td>\n",
       "      <td>7.340096</td>\n",
       "      <td>6.599593</td>\n",
       "    </tr>\n",
       "    <tr>\n",
       "      <th>1</th>\n",
       "      <td>2023-04-01</td>\n",
       "      <td>6.918349</td>\n",
       "      <td>7.339634</td>\n",
       "      <td>6.505892</td>\n",
       "    </tr>\n",
       "    <tr>\n",
       "      <th>2</th>\n",
       "      <td>2023-05-01</td>\n",
       "      <td>6.905033</td>\n",
       "      <td>7.307189</td>\n",
       "      <td>6.508546</td>\n",
       "    </tr>\n",
       "  </tbody>\n",
       "</table>\n",
       "</div>"
      ],
      "text/plain": [
       "          ds      yhat  yhat_upper  yhat_lower\n",
       "0 2023-03-01  6.969797    7.340096    6.599593\n",
       "1 2023-04-01  6.918349    7.339634    6.505892\n",
       "2 2023-05-01  6.905033    7.307189    6.508546"
      ]
     },
     "execution_count": 18,
     "metadata": {},
     "output_type": "execute_result"
    }
   ],
   "source": [
    "df_future_prediction[['ds', 'yhat', 'yhat_upper', 'yhat_lower']]"
   ]
  }
 ],
 "metadata": {
  "kernelspec": {
   "display_name": "Python 3 (ipykernel)",
   "language": "python",
   "name": "python3"
  },
  "language_info": {
   "codemirror_mode": {
    "name": "ipython",
    "version": 3
   },
   "file_extension": ".py",
   "mimetype": "text/x-python",
   "name": "python",
   "nbconvert_exporter": "python",
   "pygments_lexer": "ipython3",
   "version": "3.11.3"
  }
 },
 "nbformat": 4,
 "nbformat_minor": 4
}
