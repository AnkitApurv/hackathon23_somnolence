{
 "cells": [
  {
   "cell_type": "code",
   "execution_count": 3,
   "metadata": {},
   "outputs": [],
   "source": [
    "from typing import Tuple\n",
    "\n",
    "import itertools\n",
    "\n",
    "# import numpy\n",
    "import pandas\n",
    "\n",
    "# from matplotlib import pyplot as plt\n",
    "\n",
    "from neuralprophet import NeuralProphet\n",
    "# from neuralprophet.diagnostics import cross_validation, performance_metrics\n",
    "# from neuralprophet.serialize import model_to_json, model_from_json\n",
    "\n",
    "from sklearn.metrics import mean_squared_error"
   ]
  },
  {
   "cell_type": "code",
   "execution_count": 5,
   "metadata": {},
   "outputs": [],
   "source": [
    "country = 'france'\n",
    "\n",
    "df = pandas.read_excel(io = f'../../../data/processed/{country}.xlsx')\n",
    "# df_covid_measures = pandas.read_csv(\n",
    "#     filepath_or_buffer = f'../../../data/intermediate/{country}/government_covid_measures.csv'\n",
    "# )"
   ]
  },
  {
   "cell_type": "code",
   "execution_count": 6,
   "metadata": {},
   "outputs": [],
   "source": [
    "# df_covid_workplace_lockdowns = df_covid_measures[['date', 'workplace_closing']]\n",
    "# df_covid_workplace_lockdowns.to_csv('covid_workplace_lockdowns.csv', index = False)"
   ]
  },
  {
   "cell_type": "code",
   "execution_count": 7,
   "metadata": {},
   "outputs": [],
   "source": [
    "def make_dataset(df_processed: pandas.DataFrame, df_covid_measures: pandas.DataFrame = pandas.DataFrame()) -> Tuple[pandas.DataFrame, pandas.DataFrame]:\n",
    "    df_mrd = df_processed[['Time', 'Unemployment_Rate_TOT']].rename(\n",
    "        columns = {'Time': 'ds', 'Unemployment_Rate_TOT': 'y'}\n",
    "    )\n",
    "    df_mrd = df_mrd.drop(index = df_mrd[pandas.isnull(df_mrd['y'])].index, inplace = False)\n",
    "\n",
    "    # manually created from df_covid_workplace_lockdowns\n",
    "    # df_workplace_lockdowns = pandas.DataFrame([\n",
    "    #     {'holiday': 'lockdown_1', 'ds': '2020-06-22', 'lower_window': 0, 'ds_upper': '2020-08-13'},\n",
    "    #     {'holiday': 'lockdown_2', 'ds': '2022-03-14', 'lower_window': 0, 'ds_upper': '2022-06-19'},\n",
    "    #     {'holiday': 'lockdown_2', 'ds': '2020-05-11', 'lower_window': 0, 'ds_upper': '2020-06-21'},\n",
    "    #     {'holiday': 'lockdown_2', 'ds': '2020-08-14', 'lower_window': 0, 'ds_upper': '2020-10-29'},\n",
    "    #     {'holiday': 'lockdown_2', 'ds': '2020-11-28', 'lower_window': 0, 'ds_upper': '2021-02-25'},\n",
    "    #     {'holiday': 'lockdown_2', 'ds': '2021-03-02', 'lower_window': 0, 'ds_upper': '2021-03-04'},\n",
    "    #     {'holiday': 'lockdown_2', 'ds': '2021-04-03', 'lower_window': 0, 'ds_upper': '2021-05-02'},\n",
    "    #     {'holiday': 'lockdown_2', 'ds': '2021-05-19', 'lower_window': 0, 'ds_upper': '2022-03-13'},\n",
    "    #     {'holiday': 'lockdown_3', 'ds': '2020-03-17', 'lower_window': 0, 'ds_upper': '2020-05-10'},\n",
    "    #     {'holiday': 'lockdown_3', 'ds': '2020-10-30', 'lower_window': 0, 'ds_upper': '2020-11-27'},\n",
    "    #     {'holiday': 'lockdown_3', 'ds': '2021-02-26', 'lower_window': 0, 'ds_upper': '2021-03-01'},\n",
    "    #     {'holiday': 'lockdown_3', 'ds': '2021-03-05', 'lower_window': 0, 'ds_upper': '2021-04-02'},\n",
    "    #     {'holiday': 'lockdown_3', 'ds': '2021-05-03', 'lower_window': 0, 'ds_upper': '2021-05-18'},\n",
    "    # ])\n",
    "    # for t_col in ['ds', 'ds_upper']:\n",
    "    #     df_workplace_lockdowns[t_col] = pandas.to_datetime(df_workplace_lockdowns[t_col], format = '%Y-%m-%d')\n",
    "    # df_workplace_lockdowns['upper_window'] = (df_workplace_lockdowns['ds_upper'] - df_workplace_lockdowns['ds']).dt.days\n",
    "    # df_workplace_lockdowns = df_workplace_lockdowns.sort_values(by = 'ds', axis = 'index', ascending = True, inplace= False)\n",
    "    return df_mrd, df_covid_measures"
   ]
  },
  {
   "cell_type": "code",
   "execution_count": 8,
   "metadata": {},
   "outputs": [],
   "source": [
    "df_mrd, _ = make_dataset(df)"
   ]
  },
  {
   "cell_type": "code",
   "execution_count": 9,
   "metadata": {},
   "outputs": [],
   "source": [
    "def train_test_split(df_mrd: pandas.DataFrame, test_size: int = 12) -> Tuple[pandas.DataFrame, pandas.DataFrame]:\n",
    "    df_test = df_mrd.tail(test_size)\n",
    "    df_train = df_mrd.drop(index = df_mrd.tail(test_size).index, inplace = False)\n",
    "    return df_train, df_test"
   ]
  },
  {
   "cell_type": "code",
   "execution_count": 10,
   "metadata": {},
   "outputs": [],
   "source": [
    "df_train, df_test = train_test_split(df_mrd, 12)"
   ]
  },
  {
   "cell_type": "code",
   "execution_count": 11,
   "metadata": {},
   "outputs": [],
   "source": [
    "# def train_model(df: pandas.DataFrame, df_holidays: pandas.DataFrame = pandas.DataFrame(), param_grid: dict = {}, eval_metric: str = 'rmse', eval_metric_optimize: str = 'min') -> NeuralProphet:\n",
    "    # Generate all combinations of parameters\n",
    "    # all_params = [dict(zip(param_grid.keys(), v)) for v in itertools.product(*param_grid.values())]\n",
    "    # eval_metric_values = []  # Store the eval_metric_values for each params here\n",
    "\n",
    "    # # Use cross validation to evaluate all parameters\n",
    "    # for params in all_params:\n",
    "    #     m = NeuralProphet(**params).fit(df)  # Fit model with given params\n",
    "    #     df_cv = cross_validation(m, horizon = '60 days', parallel=\"processes\")\n",
    "    #     df_p = performance_metrics(df_cv, rolling_window=1, monthly=True)\n",
    "    #     eval_metric_values.append(df_p[eval_metric].values[0])\n",
    "\n",
    "    # # Find the best parameters\n",
    "    # tuning_results = pandas.DataFrame(all_params)\n",
    "    # tuning_results[eval_metric] = eval_metric_values\n",
    "\n",
    "    # tuning_results.sort_values(by = eval_metric, axis = 'index', ascending = True, inplace = True)\n",
    "    # best_params = {}\n",
    "    # if eval_metric_optimize == 'min':\n",
    "    #     best_params = tuning_results.iloc[0].to_dict()\n",
    "    # elif eval_metric_optimize == 'max':\n",
    "    #     best_params = tuning_results.iloc[-1].to_dict()\n",
    "    # else:\n",
    "    #     raise ValueError(\"Invalid Parameter Value: param 'eval_metric_optimize' may only have values 'min' or 'max'.\")\n",
    "\n",
    "\n",
    "    # optimal_model = NeuralProphet().fit(df)\n",
    "    # return optimal_model"
   ]
  },
  {
   "cell_type": "code",
   "execution_count": 18,
   "metadata": {},
   "outputs": [
    {
     "name": "stderr",
     "output_type": "stream",
     "text": [
      "INFO - (NP.df_utils._infer_frequency) - Major frequency MS corresponds to 91.489% of the data.\n",
      "INFO - (NP.df_utils._infer_frequency) - Dataframe freq automatically defined as MS\n",
      "INFO - (NP.config.init_data_params) - Setting normalization to global as only one dataframe provided for training.\n",
      "INFO - (NP.utils.set_auto_seasonalities) - Disabling weekly seasonality. Run NeuralProphet with weekly_seasonality=True to override this.\n",
      "INFO - (NP.utils.set_auto_seasonalities) - Disabling daily seasonality. Run NeuralProphet with daily_seasonality=True to override this.\n",
      "INFO - (NP.config.set_auto_batch_epoch) - Auto-set batch_size to 16\n",
      "INFO - (NP.config.set_auto_batch_epoch) - Auto-set epochs to 252\n"
     ]
    },
    {
     "data": {
      "application/vnd.jupyter.widget-view+json": {
       "model_id": "84abd6e6f1934128a745bb037cc6714f",
       "version_major": 2,
       "version_minor": 0
      },
      "text/plain": [
       "  0%|          | 0/118 [00:00<?, ?it/s]"
      ]
     },
     "metadata": {},
     "output_type": "display_data"
    },
    {
     "name": "stderr",
     "output_type": "stream",
     "text": [
      "INFO - (NP.utils_torch.lr_range_test) - lr-range-test results: steep: 1.00E-01, min: 5.88E-01\n"
     ]
    },
    {
     "data": {
      "application/vnd.jupyter.widget-view+json": {
       "model_id": "2ca13e255f744fb5a2f0852dd46e6257",
       "version_major": 2,
       "version_minor": 0
      },
      "text/plain": [
       "  0%|          | 0/118 [00:00<?, ?it/s]"
      ]
     },
     "metadata": {},
     "output_type": "display_data"
    },
    {
     "name": "stderr",
     "output_type": "stream",
     "text": [
      "INFO - (NP.utils_torch.lr_range_test) - lr-range-test results: steep: 7.02E-02, min: 4.12E-01\n",
      "INFO - (NP.forecaster._init_train_loader) - lr-range-test selected learning rate: 8.89E-02\n",
      "Epoch[252/252]: 100%|██████████| 252/252 [00:19<00:00, 12.86it/s, SmoothL1Loss=0.00353, MAE=0.351, RMSE=0.438, Loss=0.00294, RegLoss=0]\n"
     ]
    }
   ],
   "source": [
    "# param_grid = {  \n",
    "#     'changepoint_prior_scale': [0.001, 0.01, 0.1, 0.5],\n",
    "#     'seasonality_prior_scale': [0.01, 0.1, 1.0, 10.0],\n",
    "# }\n",
    "\n",
    "# model = train_model(df_train)\n",
    "model = NeuralProphet()\n",
    "model_fitting = model.fit(df_train)"
   ]
  },
  {
   "cell_type": "code",
   "execution_count": 21,
   "metadata": {},
   "outputs": [
    {
     "data": {
      "text/html": [
       "<div>\n",
       "<style scoped>\n",
       "    .dataframe tbody tr th:only-of-type {\n",
       "        vertical-align: middle;\n",
       "    }\n",
       "\n",
       "    .dataframe tbody tr th {\n",
       "        vertical-align: top;\n",
       "    }\n",
       "\n",
       "    .dataframe thead th {\n",
       "        text-align: right;\n",
       "    }\n",
       "</style>\n",
       "<table border=\"1\" class=\"dataframe\">\n",
       "  <thead>\n",
       "    <tr style=\"text-align: right;\">\n",
       "      <th></th>\n",
       "      <th>SmoothL1Loss</th>\n",
       "      <th>MAE</th>\n",
       "      <th>RMSE</th>\n",
       "      <th>Loss</th>\n",
       "      <th>RegLoss</th>\n",
       "    </tr>\n",
       "  </thead>\n",
       "  <tbody>\n",
       "    <tr>\n",
       "      <th>0</th>\n",
       "      <td>0.257051</td>\n",
       "      <td>3.097814</td>\n",
       "      <td>3.933787</td>\n",
       "      <td>0.192592</td>\n",
       "      <td>0.0</td>\n",
       "    </tr>\n",
       "    <tr>\n",
       "      <th>1</th>\n",
       "      <td>0.235936</td>\n",
       "      <td>2.939619</td>\n",
       "      <td>3.742459</td>\n",
       "      <td>0.175119</td>\n",
       "      <td>0.0</td>\n",
       "    </tr>\n",
       "    <tr>\n",
       "      <th>2</th>\n",
       "      <td>0.213703</td>\n",
       "      <td>2.772682</td>\n",
       "      <td>3.561428</td>\n",
       "      <td>0.156933</td>\n",
       "      <td>0.0</td>\n",
       "    </tr>\n",
       "    <tr>\n",
       "      <th>3</th>\n",
       "      <td>0.191694</td>\n",
       "      <td>2.609226</td>\n",
       "      <td>3.341804</td>\n",
       "      <td>0.138975</td>\n",
       "      <td>0.0</td>\n",
       "    </tr>\n",
       "    <tr>\n",
       "      <th>4</th>\n",
       "      <td>0.166932</td>\n",
       "      <td>2.429247</td>\n",
       "      <td>3.101577</td>\n",
       "      <td>0.119552</td>\n",
       "      <td>0.0</td>\n",
       "    </tr>\n",
       "    <tr>\n",
       "      <th>...</th>\n",
       "      <td>...</td>\n",
       "      <td>...</td>\n",
       "      <td>...</td>\n",
       "      <td>...</td>\n",
       "      <td>...</td>\n",
       "    </tr>\n",
       "    <tr>\n",
       "      <th>247</th>\n",
       "      <td>0.003533</td>\n",
       "      <td>0.351420</td>\n",
       "      <td>0.441083</td>\n",
       "      <td>0.002942</td>\n",
       "      <td>0.0</td>\n",
       "    </tr>\n",
       "    <tr>\n",
       "      <th>248</th>\n",
       "      <td>0.003531</td>\n",
       "      <td>0.351259</td>\n",
       "      <td>0.440732</td>\n",
       "      <td>0.002940</td>\n",
       "      <td>0.0</td>\n",
       "    </tr>\n",
       "    <tr>\n",
       "      <th>249</th>\n",
       "      <td>0.003531</td>\n",
       "      <td>0.351292</td>\n",
       "      <td>0.436705</td>\n",
       "      <td>0.002941</td>\n",
       "      <td>0.0</td>\n",
       "    </tr>\n",
       "    <tr>\n",
       "      <th>250</th>\n",
       "      <td>0.003529</td>\n",
       "      <td>0.351224</td>\n",
       "      <td>0.439768</td>\n",
       "      <td>0.002939</td>\n",
       "      <td>0.0</td>\n",
       "    </tr>\n",
       "    <tr>\n",
       "      <th>251</th>\n",
       "      <td>0.003529</td>\n",
       "      <td>0.351204</td>\n",
       "      <td>0.438483</td>\n",
       "      <td>0.002939</td>\n",
       "      <td>0.0</td>\n",
       "    </tr>\n",
       "  </tbody>\n",
       "</table>\n",
       "<p>252 rows × 5 columns</p>\n",
       "</div>"
      ],
      "text/plain": [
       "     SmoothL1Loss       MAE      RMSE      Loss  RegLoss\n",
       "0        0.257051  3.097814  3.933787  0.192592      0.0\n",
       "1        0.235936  2.939619  3.742459  0.175119      0.0\n",
       "2        0.213703  2.772682  3.561428  0.156933      0.0\n",
       "3        0.191694  2.609226  3.341804  0.138975      0.0\n",
       "4        0.166932  2.429247  3.101577  0.119552      0.0\n",
       "..            ...       ...       ...       ...      ...\n",
       "247      0.003533  0.351420  0.441083  0.002942      0.0\n",
       "248      0.003531  0.351259  0.440732  0.002940      0.0\n",
       "249      0.003531  0.351292  0.436705  0.002941      0.0\n",
       "250      0.003529  0.351224  0.439768  0.002939      0.0\n",
       "251      0.003529  0.351204  0.438483  0.002939      0.0\n",
       "\n",
       "[252 rows x 5 columns]"
      ]
     },
     "execution_count": 21,
     "metadata": {},
     "output_type": "execute_result"
    }
   ],
   "source": [
    "model_fitting"
   ]
  },
  {
   "cell_type": "code",
   "execution_count": 25,
   "metadata": {},
   "outputs": [],
   "source": [
    "def test_model(df_test: pandas.DataFrame, model: NeuralProphet) -> Tuple[pandas.DataFrame, float]:\n",
    "    \"return predicted values and rmse\"\n",
    "    df_predicted: pandas.DataFrame = model.predict(df_test)\n",
    "    rmse: float = mean_squared_error(y_true = df_test['y'], y_pred = df_predicted['yhat1'], squared = False)\n",
    "    return df_predicted, rmse"
   ]
  },
  {
   "cell_type": "code",
   "execution_count": 26,
   "metadata": {},
   "outputs": [
    {
     "name": "stderr",
     "output_type": "stream",
     "text": [
      "INFO - (NP.df_utils._infer_frequency) - Major frequency MS corresponds to 91.667% of the data.\n",
      "INFO - (NP.df_utils._infer_frequency) - Defined frequency is equal to major frequency - MS\n",
      "INFO - (NP.df_utils._infer_frequency) - Major frequency MS corresponds to 91.667% of the data.\n",
      "INFO - (NP.df_utils._infer_frequency) - Defined frequency is equal to major frequency - MS\n",
      "INFO - (NP.df_utils.return_df_in_original_format) - Returning df with no ID column\n"
     ]
    }
   ],
   "source": [
    "df_predicted, rmse = test_model(df_test, model)"
   ]
  },
  {
   "cell_type": "code",
   "execution_count": 28,
   "metadata": {},
   "outputs": [
    {
     "data": {
      "text/plain": [
       "0.7034399021440034"
      ]
     },
     "execution_count": 28,
     "metadata": {},
     "output_type": "execute_result"
    }
   ],
   "source": [
    "rmse"
   ]
  },
  {
   "cell_type": "code",
   "execution_count": 29,
   "metadata": {},
   "outputs": [
    {
     "data": {
      "text/html": [
       "<div>\n",
       "<style scoped>\n",
       "    .dataframe tbody tr th:only-of-type {\n",
       "        vertical-align: middle;\n",
       "    }\n",
       "\n",
       "    .dataframe tbody tr th {\n",
       "        vertical-align: top;\n",
       "    }\n",
       "\n",
       "    .dataframe thead th {\n",
       "        text-align: right;\n",
       "    }\n",
       "</style>\n",
       "<table border=\"1\" class=\"dataframe\">\n",
       "  <thead>\n",
       "    <tr style=\"text-align: right;\">\n",
       "      <th></th>\n",
       "      <th>ds</th>\n",
       "      <th>y</th>\n",
       "      <th>residual1</th>\n",
       "      <th>yhat1</th>\n",
       "      <th>trend</th>\n",
       "      <th>season_yearly</th>\n",
       "    </tr>\n",
       "  </thead>\n",
       "  <tbody>\n",
       "    <tr>\n",
       "      <th>0</th>\n",
       "      <td>2022-03-01</td>\n",
       "      <td>7.4</td>\n",
       "      <td>0.667293</td>\n",
       "      <td>8.067293</td>\n",
       "      <td>8.059205</td>\n",
       "      <td>0.008088</td>\n",
       "    </tr>\n",
       "    <tr>\n",
       "      <th>1</th>\n",
       "      <td>2022-04-01</td>\n",
       "      <td>7.5</td>\n",
       "      <td>0.523349</td>\n",
       "      <td>8.023349</td>\n",
       "      <td>8.040203</td>\n",
       "      <td>-0.016854</td>\n",
       "    </tr>\n",
       "    <tr>\n",
       "      <th>2</th>\n",
       "      <td>2022-05-01</td>\n",
       "      <td>7.5</td>\n",
       "      <td>0.488455</td>\n",
       "      <td>7.988455</td>\n",
       "      <td>8.021815</td>\n",
       "      <td>-0.033360</td>\n",
       "    </tr>\n",
       "    <tr>\n",
       "      <th>3</th>\n",
       "      <td>2022-06-01</td>\n",
       "      <td>7.5</td>\n",
       "      <td>0.460323</td>\n",
       "      <td>7.960323</td>\n",
       "      <td>8.002815</td>\n",
       "      <td>-0.042492</td>\n",
       "    </tr>\n",
       "    <tr>\n",
       "      <th>4</th>\n",
       "      <td>2022-07-01</td>\n",
       "      <td>7.3</td>\n",
       "      <td>0.708663</td>\n",
       "      <td>8.008663</td>\n",
       "      <td>7.984426</td>\n",
       "      <td>0.024237</td>\n",
       "    </tr>\n",
       "    <tr>\n",
       "      <th>5</th>\n",
       "      <td>2022-08-01</td>\n",
       "      <td>7.2</td>\n",
       "      <td>0.792328</td>\n",
       "      <td>7.992328</td>\n",
       "      <td>7.965425</td>\n",
       "      <td>0.026903</td>\n",
       "    </tr>\n",
       "    <tr>\n",
       "      <th>6</th>\n",
       "      <td>2022-09-01</td>\n",
       "      <td>7.1</td>\n",
       "      <td>0.875335</td>\n",
       "      <td>7.975335</td>\n",
       "      <td>7.946424</td>\n",
       "      <td>0.028911</td>\n",
       "    </tr>\n",
       "    <tr>\n",
       "      <th>7</th>\n",
       "      <td>2022-10-01</td>\n",
       "      <td>7.2</td>\n",
       "      <td>0.733476</td>\n",
       "      <td>7.933476</td>\n",
       "      <td>7.928036</td>\n",
       "      <td>0.005441</td>\n",
       "    </tr>\n",
       "    <tr>\n",
       "      <th>8</th>\n",
       "      <td>2022-11-01</td>\n",
       "      <td>7.2</td>\n",
       "      <td>0.727266</td>\n",
       "      <td>7.927266</td>\n",
       "      <td>7.909035</td>\n",
       "      <td>0.018230</td>\n",
       "    </tr>\n",
       "    <tr>\n",
       "      <th>9</th>\n",
       "      <td>2022-12-01</td>\n",
       "      <td>7.2</td>\n",
       "      <td>0.706010</td>\n",
       "      <td>7.906010</td>\n",
       "      <td>7.890647</td>\n",
       "      <td>0.015363</td>\n",
       "    </tr>\n",
       "    <tr>\n",
       "      <th>10</th>\n",
       "      <td>2023-01-01</td>\n",
       "      <td>7.1</td>\n",
       "      <td>0.775606</td>\n",
       "      <td>7.875606</td>\n",
       "      <td>7.871645</td>\n",
       "      <td>0.003960</td>\n",
       "    </tr>\n",
       "    <tr>\n",
       "      <th>11</th>\n",
       "      <td>2023-02-01</td>\n",
       "      <td>7.0</td>\n",
       "      <td>0.839736</td>\n",
       "      <td>7.839736</td>\n",
       "      <td>7.852644</td>\n",
       "      <td>-0.012908</td>\n",
       "    </tr>\n",
       "  </tbody>\n",
       "</table>\n",
       "</div>"
      ],
      "text/plain": [
       "           ds    y  residual1     yhat1     trend  season_yearly\n",
       "0  2022-03-01  7.4   0.667293  8.067293  8.059205       0.008088\n",
       "1  2022-04-01  7.5   0.523349  8.023349  8.040203      -0.016854\n",
       "2  2022-05-01  7.5   0.488455  7.988455  8.021815      -0.033360\n",
       "3  2022-06-01  7.5   0.460323  7.960323  8.002815      -0.042492\n",
       "4  2022-07-01  7.3   0.708663  8.008663  7.984426       0.024237\n",
       "5  2022-08-01  7.2   0.792328  7.992328  7.965425       0.026903\n",
       "6  2022-09-01  7.1   0.875335  7.975335  7.946424       0.028911\n",
       "7  2022-10-01  7.2   0.733476  7.933476  7.928036       0.005441\n",
       "8  2022-11-01  7.2   0.727266  7.927266  7.909035       0.018230\n",
       "9  2022-12-01  7.2   0.706010  7.906010  7.890647       0.015363\n",
       "10 2023-01-01  7.1   0.775606  7.875606  7.871645       0.003960\n",
       "11 2023-02-01  7.0   0.839736  7.839736  7.852644      -0.012908"
      ]
     },
     "execution_count": 29,
     "metadata": {},
     "output_type": "execute_result"
    }
   ],
   "source": [
    "df_predicted"
   ]
  },
  {
   "cell_type": "code",
   "execution_count": 30,
   "metadata": {},
   "outputs": [],
   "source": [
    "df_future = pandas.DataFrame(data = {'ds': ['2023-03-01', '2023-04-01']})"
   ]
  },
  {
   "cell_type": "code",
   "execution_count": 31,
   "metadata": {},
   "outputs": [
    {
     "name": "stderr",
     "output_type": "stream",
     "text": [
      "INFO - (NP.df_utils._infer_frequency) - Major frequency MS corresponds to 100.0% of the data.\n",
      "INFO - (NP.df_utils._infer_frequency) - Defined frequency is equal to major frequency - MS\n"
     ]
    },
    {
     "ename": "KeyError",
     "evalue": "'y'",
     "output_type": "error",
     "traceback": [
      "\u001b[0;31m---------------------------------------------------------------------------\u001b[0m",
      "\u001b[0;31mKeyError\u001b[0m                                  Traceback (most recent call last)",
      "File \u001b[0;32m~/.conda/envs/env-neuralprophet/lib/python3.10/site-packages/pandas/core/indexes/base.py:3802\u001b[0m, in \u001b[0;36mIndex.get_loc\u001b[0;34m(self, key, method, tolerance)\u001b[0m\n\u001b[1;32m   3801\u001b[0m \u001b[39mtry\u001b[39;00m:\n\u001b[0;32m-> 3802\u001b[0m     \u001b[39mreturn\u001b[39;00m \u001b[39mself\u001b[39;49m\u001b[39m.\u001b[39;49m_engine\u001b[39m.\u001b[39;49mget_loc(casted_key)\n\u001b[1;32m   3803\u001b[0m \u001b[39mexcept\u001b[39;00m \u001b[39mKeyError\u001b[39;00m \u001b[39mas\u001b[39;00m err:\n",
      "File \u001b[0;32m~/.conda/envs/env-neuralprophet/lib/python3.10/site-packages/pandas/_libs/index.pyx:138\u001b[0m, in \u001b[0;36mpandas._libs.index.IndexEngine.get_loc\u001b[0;34m()\u001b[0m\n",
      "File \u001b[0;32m~/.conda/envs/env-neuralprophet/lib/python3.10/site-packages/pandas/_libs/index.pyx:165\u001b[0m, in \u001b[0;36mpandas._libs.index.IndexEngine.get_loc\u001b[0;34m()\u001b[0m\n",
      "File \u001b[0;32mpandas/_libs/hashtable_class_helper.pxi:5745\u001b[0m, in \u001b[0;36mpandas._libs.hashtable.PyObjectHashTable.get_item\u001b[0;34m()\u001b[0m\n",
      "File \u001b[0;32mpandas/_libs/hashtable_class_helper.pxi:5753\u001b[0m, in \u001b[0;36mpandas._libs.hashtable.PyObjectHashTable.get_item\u001b[0;34m()\u001b[0m\n",
      "\u001b[0;31mKeyError\u001b[0m: 'y'",
      "\nThe above exception was the direct cause of the following exception:\n",
      "\u001b[0;31mKeyError\u001b[0m                                  Traceback (most recent call last)",
      "Cell \u001b[0;32mIn[31], line 1\u001b[0m\n\u001b[0;32m----> 1\u001b[0m df_future_prediction: pandas\u001b[39m.\u001b[39mDataFrame \u001b[39m=\u001b[39m model\u001b[39m.\u001b[39;49mpredict(df_future)\n",
      "File \u001b[0;32m~/.conda/envs/env-neuralprophet/lib/python3.10/site-packages/neuralprophet/forecaster.py:763\u001b[0m, in \u001b[0;36mNeuralProphet.predict\u001b[0;34m(self, df, decompose, raw)\u001b[0m\n\u001b[1;32m    761\u001b[0m df, received_ID_col, received_single_time_series, received_dict, _ \u001b[39m=\u001b[39m df_utils\u001b[39m.\u001b[39mprep_or_copy_df(df)\n\u001b[1;32m    762\u001b[0m \u001b[39m# to get all forecasteable values with df given, maybe extend into future:\u001b[39;00m\n\u001b[0;32m--> 763\u001b[0m df, periods_added \u001b[39m=\u001b[39m \u001b[39mself\u001b[39;49m\u001b[39m.\u001b[39;49m_maybe_extend_df(df)\n\u001b[1;32m    764\u001b[0m df \u001b[39m=\u001b[39m \u001b[39mself\u001b[39m\u001b[39m.\u001b[39m_prepare_dataframe_to_predict(df)\n\u001b[1;32m    765\u001b[0m \u001b[39m# normalize\u001b[39;00m\n",
      "File \u001b[0;32m~/.conda/envs/env-neuralprophet/lib/python3.10/site-packages/neuralprophet/forecaster.py:2822\u001b[0m, in \u001b[0;36mNeuralProphet._maybe_extend_df\u001b[0;34m(self, df)\u001b[0m\n\u001b[1;32m   2820\u001b[0m _ \u001b[39m=\u001b[39m df_utils\u001b[39m.\u001b[39minfer_frequency(df_i, n_lags\u001b[39m=\u001b[39m\u001b[39mself\u001b[39m\u001b[39m.\u001b[39mmax_lags, freq\u001b[39m=\u001b[39m\u001b[39mself\u001b[39m\u001b[39m.\u001b[39mdata_freq)\n\u001b[1;32m   2821\u001b[0m \u001b[39m# to get all forecasteable values with df given, maybe extend into future:\u001b[39;00m\n\u001b[0;32m-> 2822\u001b[0m periods_add[df_name] \u001b[39m=\u001b[39m \u001b[39mself\u001b[39;49m\u001b[39m.\u001b[39;49m_get_maybe_extend_periods(df_i)\n\u001b[1;32m   2823\u001b[0m \u001b[39mif\u001b[39;00m periods_add[df_name] \u001b[39m>\u001b[39m \u001b[39m0\u001b[39m:\n\u001b[1;32m   2824\u001b[0m     \u001b[39m# This does not include future regressors or events.\u001b[39;00m\n\u001b[1;32m   2825\u001b[0m     \u001b[39m# periods should be 0 if those are configured.\u001b[39;00m\n\u001b[1;32m   2826\u001b[0m     last_date \u001b[39m=\u001b[39m pd\u001b[39m.\u001b[39mto_datetime(df_i[\u001b[39m\"\u001b[39m\u001b[39mds\u001b[39m\u001b[39m\"\u001b[39m]\u001b[39m.\u001b[39mcopy(deep\u001b[39m=\u001b[39m\u001b[39mTrue\u001b[39;00m))\u001b[39m.\u001b[39msort_values()\u001b[39m.\u001b[39mmax()\n",
      "File \u001b[0;32m~/.conda/envs/env-neuralprophet/lib/python3.10/site-packages/neuralprophet/forecaster.py:2803\u001b[0m, in \u001b[0;36mNeuralProphet._get_maybe_extend_periods\u001b[0;34m(self, df)\u001b[0m\n\u001b[1;32m   2801\u001b[0m periods_add \u001b[39m=\u001b[39m \u001b[39m0\u001b[39m\n\u001b[1;32m   2802\u001b[0m nan_at_end \u001b[39m=\u001b[39m \u001b[39m0\u001b[39m\n\u001b[0;32m-> 2803\u001b[0m \u001b[39mwhile\u001b[39;00m \u001b[39mlen\u001b[39m(df) \u001b[39m>\u001b[39m nan_at_end \u001b[39mand\u001b[39;00m df[\u001b[39m\"\u001b[39;49m\u001b[39my\u001b[39;49m\u001b[39m\"\u001b[39;49m]\u001b[39m.\u001b[39misnull()\u001b[39m.\u001b[39miloc[\u001b[39m-\u001b[39m(\u001b[39m1\u001b[39m \u001b[39m+\u001b[39m nan_at_end)]:\n\u001b[1;32m   2804\u001b[0m     nan_at_end \u001b[39m+\u001b[39m\u001b[39m=\u001b[39m \u001b[39m1\u001b[39m\n\u001b[1;32m   2805\u001b[0m \u001b[39mif\u001b[39;00m \u001b[39mself\u001b[39m\u001b[39m.\u001b[39mmax_lags \u001b[39m>\u001b[39m \u001b[39m0\u001b[39m:\n",
      "File \u001b[0;32m~/.conda/envs/env-neuralprophet/lib/python3.10/site-packages/pandas/core/frame.py:3807\u001b[0m, in \u001b[0;36mDataFrame.__getitem__\u001b[0;34m(self, key)\u001b[0m\n\u001b[1;32m   3805\u001b[0m \u001b[39mif\u001b[39;00m \u001b[39mself\u001b[39m\u001b[39m.\u001b[39mcolumns\u001b[39m.\u001b[39mnlevels \u001b[39m>\u001b[39m \u001b[39m1\u001b[39m:\n\u001b[1;32m   3806\u001b[0m     \u001b[39mreturn\u001b[39;00m \u001b[39mself\u001b[39m\u001b[39m.\u001b[39m_getitem_multilevel(key)\n\u001b[0;32m-> 3807\u001b[0m indexer \u001b[39m=\u001b[39m \u001b[39mself\u001b[39;49m\u001b[39m.\u001b[39;49mcolumns\u001b[39m.\u001b[39;49mget_loc(key)\n\u001b[1;32m   3808\u001b[0m \u001b[39mif\u001b[39;00m is_integer(indexer):\n\u001b[1;32m   3809\u001b[0m     indexer \u001b[39m=\u001b[39m [indexer]\n",
      "File \u001b[0;32m~/.conda/envs/env-neuralprophet/lib/python3.10/site-packages/pandas/core/indexes/base.py:3804\u001b[0m, in \u001b[0;36mIndex.get_loc\u001b[0;34m(self, key, method, tolerance)\u001b[0m\n\u001b[1;32m   3802\u001b[0m     \u001b[39mreturn\u001b[39;00m \u001b[39mself\u001b[39m\u001b[39m.\u001b[39m_engine\u001b[39m.\u001b[39mget_loc(casted_key)\n\u001b[1;32m   3803\u001b[0m \u001b[39mexcept\u001b[39;00m \u001b[39mKeyError\u001b[39;00m \u001b[39mas\u001b[39;00m err:\n\u001b[0;32m-> 3804\u001b[0m     \u001b[39mraise\u001b[39;00m \u001b[39mKeyError\u001b[39;00m(key) \u001b[39mfrom\u001b[39;00m \u001b[39merr\u001b[39;00m\n\u001b[1;32m   3805\u001b[0m \u001b[39mexcept\u001b[39;00m \u001b[39mTypeError\u001b[39;00m:\n\u001b[1;32m   3806\u001b[0m     \u001b[39m# If we have a listlike key, _check_indexing_error will raise\u001b[39;00m\n\u001b[1;32m   3807\u001b[0m     \u001b[39m#  InvalidIndexError. Otherwise we fall through and re-raise\u001b[39;00m\n\u001b[1;32m   3808\u001b[0m     \u001b[39m#  the TypeError.\u001b[39;00m\n\u001b[1;32m   3809\u001b[0m     \u001b[39mself\u001b[39m\u001b[39m.\u001b[39m_check_indexing_error(key)\n",
      "\u001b[0;31mKeyError\u001b[0m: 'y'"
     ]
    }
   ],
   "source": [
    "df_future_prediction: pandas.DataFrame = model.predict(df_future)"
   ]
  },
  {
   "cell_type": "code",
   "execution_count": null,
   "metadata": {},
   "outputs": [],
   "source": [
    "df_future_prediction"
   ]
  },
  {
   "cell_type": "code",
   "execution_count": null,
   "metadata": {},
   "outputs": [],
   "source": []
  }
 ],
 "metadata": {
  "kernelspec": {
   "display_name": "env-hackathon23_somnolence",
   "language": "python",
   "name": "python3"
  },
  "language_info": {
   "codemirror_mode": {
    "name": "ipython",
    "version": 3
   },
   "file_extension": ".py",
   "mimetype": "text/x-python",
   "name": "python",
   "nbconvert_exporter": "python",
   "pygments_lexer": "ipython3",
   "version": "3.10.11"
  },
  "orig_nbformat": 4
 },
 "nbformat": 4,
 "nbformat_minor": 2
}
