{
 "cells": [
  {
   "cell_type": "code",
   "execution_count": null,
   "metadata": {},
   "outputs": [],
   "source": [
    "import pathlib\n",
    "import pandas\n",
    "\n",
    "from bokeh.layouts import column\n",
    "from bokeh.models import ColumnDataSource, RangeTool\n",
    "from bokeh.plotting import figure, show"
   ]
  },
  {
   "cell_type": "code",
   "execution_count": null,
   "metadata": {},
   "outputs": [],
   "source": [
    "from bokeh.io import output_notebook\n",
    "output_notebook()"
   ]
  },
  {
   "cell_type": "code",
   "execution_count": null,
   "metadata": {},
   "outputs": [],
   "source": [
    "df = pandas.read_excel(io = pathlib.Path('../data/processed/france.xlsx'))"
   ]
  },
  {
   "cell_type": "code",
   "execution_count": null,
   "metadata": {},
   "outputs": [],
   "source": [
    "df[['Time', 'Unemployment_Rate_TOT', 'Labor_Markets|Unemployment_Rate|Percent']].to_csv('a.csv')"
   ]
  },
  {
   "cell_type": "code",
   "execution_count": null,
   "metadata": {},
   "outputs": [],
   "source": [
    "# unemployment_rates\n",
    "df[['Time', 'Unemployment_Rate_MEN', 'Unemployment_Rate_TOT','Unemployment_Rate_WOMEN']]"
   ]
  },
  {
   "cell_type": "code",
   "execution_count": null,
   "metadata": {},
   "outputs": [],
   "source": [
    "# electricity\n",
    "df[['Time', 'Electricity_Distribution_Losses', 'Electricity_Final_Consumption_(Calculated)']]"
   ]
  },
  {
   "cell_type": "code",
   "execution_count": null,
   "metadata": {},
   "outputs": [],
   "source": [
    "# natural gas trade balance\n",
    "df[['Time', 'Natural_Gas_Trade_Balance']]"
   ]
  },
  {
   "cell_type": "code",
   "execution_count": null,
   "metadata": {},
   "outputs": [],
   "source": [
    "# production\n",
    "df[['Time',\n",
    "    'Economic_Activity|Industrial_Production|Index|Base_Year-2010=100',\n",
    "    'Economic_Activity|Industrial_Production|Manufacturing|Index|Base_Year-2010=100',\n",
    "    'Industrial_Production|Seasonally_adjusted|Index|Base_Year-2010=100']]"
   ]
  },
  {
   "cell_type": "code",
   "execution_count": null,
   "metadata": {},
   "outputs": [],
   "source": [
    "# prices\n",
    "df[['Time', 'Financial_Market_Prices|Equities|Index|Base_Year-None',\n",
    "    'Prices|Consumer_Price_Index|All_items|Index|Base_Year-2010=100',\n",
    "    'Prices|Producer_Price_Index|All_Commodities|Index|Base_Year-2010=100']]"
   ]
  },
  {
   "cell_type": "code",
   "execution_count": null,
   "metadata": {},
   "outputs": [],
   "source": [
    "# labour\n",
    "df[['Time', 'Labor_Markets|Unemployment_Rate|Percent',\n",
    "    'Labor_Markets|Wage_Rates|Index', 'Unemployment|Persons|Number_of']]"
   ]
  },
  {
   "cell_type": "code",
   "execution_count": null,
   "metadata": {},
   "outputs": [],
   "source": [
    "# gdp current unadjusted\n",
    "df[['Time', 'Change_in_Inventories|Nominal|Undjusted|Domestic_Currency',\n",
    "    'Exports_of_Goods_and_Services|Nominal|Undjusted|Domestic_Currency',\n",
    "    'Government_Consumption_Expenditure|Nominal|Undjusted|Domestic_Currency',\n",
    "    'Gross_Domestic_Product|Nominal|Undjusted|Domestic_Currency',\n",
    "    'Gross_Fixed_Capital_Formation|Nominal|Undjusted|Domestic_Currency',\n",
    "    'Household_Consumption_Expenditure|incl._NPISHs|Nominal|Undjusted|Domestic_Currency',\n",
    "    'Imports_of_Goods_and_Services|Nominal|Undjusted|Domestic_Currency']]"
   ]
  },
  {
   "cell_type": "code",
   "execution_count": null,
   "metadata": {},
   "outputs": [],
   "source": [
    "# gdp current adjusted\n",
    "df[['Time',\n",
    "    'Change_in_Inventories|Nominal|Seasonally_Adjusted|Domestic_Currency',\n",
    "    'Exports_of_Goods_and_Services|Nominal|Seasonally_Adjusted|Domestic_Currency',\n",
    "    'Government_Final_Consumption_Expenditure|Nominal|Seasonally_adjusted|Domestic_Currency',\n",
    "    'Gross_Domestic_Product|Nominal|Seasonally_Adjusted|Domestic_Currency',\n",
    "    'Gross_Fixed_Capital_Formation|Nominal|Seasonally_Adjusted|Domestic_Currency',\n",
    "    'Household_Consumption_Expenditure|incl._NPISHs|Nominal|Seasonally_Adjusted|Domestic_Currency',\n",
    "    'Imports_of_Goods_and_Services|Nominal|Seasonally_Adjusted|Domestic_Currency']]"
   ]
  },
  {
   "cell_type": "code",
   "execution_count": null,
   "metadata": {},
   "outputs": [],
   "source": [
    "# gdp constant unadjusted\n",
    "df[['Time',\n",
    "    'Change_in_Inventories|Real|Undjusted|Domestic_Currency|Base_Year-2010.0',\n",
    "    'Exports_of_Goods_and_Services|Real|Undjusted|Domestic_Currency|Base_Year-2010.0',\n",
    "    'Government_Consumption_Expenditure|Real|Undjusted|Domestic_Currency|Base_Year-2010.0',\n",
    "    'Gross_Domestic_Product|Real|Undjusted|Domestic_Currency|Base_Year-2010.0',\n",
    "    'Gross_Fixed_Capital_Formation|Real|Undjusted|Domestic_Currency|Base_Year-2010.0',\n",
    "    'Household_Consumption_Expenditure|incl._NPISHs|Real|Undjusted|Domestic_Currency|Base_Year-2010.0',\n",
    "    'Imports_of_Goods_and_Services|Real|Undjusted|Domestic_Currency|Base_Year-2010.0']]"
   ]
  },
  {
   "cell_type": "code",
   "execution_count": null,
   "metadata": {},
   "outputs": [],
   "source": [
    "# gdp constant adjusted\n",
    "df[['Time',\n",
    "    'Change_in_Inventories|Real|Seasonally_Adjusted|Domestic_Currency|Base_Year-2010.0',\n",
    "    'Exports_of_Goods_and_Services|Real|Seasonally_Adjusted|Domestic_Currency|Base_Year-2010.0',\n",
    "    'Government_Final_Consumption_Expenditure|Real|Seasonally_adjusted|Domestic_Currency|Base_Year-2010.0',\n",
    "    'Gross_Domestic_Product|Deflator|Seasonally_Adjusted|Base_Year-2010.0',\n",
    "    'Gross_Domestic_Product|Real|Seasonally_Adjusted|Domestic_Currency|Base_Year-2010.0',\n",
    "    'Gross_Fixed_Capital_Formation|Real|Seasonally_Adjusted|Domestic_Currency|Base_Year-2010.0',\n",
    "    'Household_Consumption_Expenditure|incl._NPISHs|Real|Seasonally_Adjusted|Domestic_Currency|Base_Year-2010.0',\n",
    "    'Imports_of_Goods_and_Services|Real|Seasonally_Adjusted|Domestic_Currency|Base_Year-2010.0']]"
   ]
  },
  {
   "cell_type": "code",
   "execution_count": null,
   "metadata": {},
   "outputs": [],
   "source": [
    "# consumer confidence\n",
    "df[['Time', 'Consumer_Confidence']]"
   ]
  },
  {
   "cell_type": "code",
   "execution_count": null,
   "metadata": {},
   "outputs": [],
   "source": [
    "# business confidence\n",
    "df[['Time', 'Business_Confidence']]"
   ]
  },
  {
   "cell_type": "code",
   "execution_count": null,
   "metadata": {},
   "outputs": [],
   "source": [
    "# interest rates and government intervention\n",
    "df[['Time', 'Deposit_Rate', 'Government_Bonds',\n",
    "    'Harmonized_Euro_Area_Rates|Loans|Households|Consumer_Credit_and_Other|Up_to_1_Year',\n",
    "    'Harmonized_Euro_Area_Rates|Loans|Households|House_Purchase|Over_5_Years',\n",
    "    'Harmonized_Euro_Area_Rates|Loans|Non-Financial_Corporations|Up_to_1_Year',\n",
    "    'Harmonized_Euro_Area_Rates|New_Business|Deposits|Households|Agreed_Maturity|Up_to_1_Year',\n",
    "    'Harmonized_Euro_Area_Rates|New_Business|Deposits|Non-financial_Corporations|Agreed_Maturity|Up_to_1_Year',\n",
    "    'Harmonized_Euro_Area_Rates|New_Business|Loans|Households|Consumption|Floating_Rate_and_up_to_1_Year',\n",
    "    'Harmonized_Euro_Area_Rates|New_Business|Loans|Households|House_Purchase|Over_5_Years',\n",
    "    'Harmonized_Euro_Area_Rates|Outstanding_Amounts|Deposits|Households|Agreed_Maturity|Up_to_2_Years',\n",
    "    'Harmonized_Euro_Area_Rates|Outstanding_Amounts|Deposits|Non-Financial_Corporations|Agreed_Maturity|Up_to_2_Years']]"
   ]
  },
  {
   "cell_type": "code",
   "execution_count": null,
   "metadata": {},
   "outputs": [],
   "source": [
    "dates = numpy.array(AAPL['date'], dtype=numpy.datetime64)\n",
    "source = ColumnDataSource(data=dict(date=dates, close=AAPL['adj_close']))\n",
    "\n",
    "p = figure(height=300, width=800, tools=\"xpan\", toolbar_location=None,\n",
    "           x_axis_type=\"datetime\", x_axis_location=\"above\",\n",
    "           background_fill_color=\"#efefef\", x_range=(dates[1500], dates[2500]))\n",
    "\n",
    "p.line('date', 'close', source=source)\n",
    "p.yaxis.axis_label = 'Price'\n",
    "\n",
    "select = figure(title=\"Drag the middle and edges of the selection box to change the range above\",\n",
    "                height=130, width=800, y_range=p.y_range,\n",
    "                x_axis_type=\"datetime\", y_axis_type=None,\n",
    "                tools=\"\", toolbar_location=None, background_fill_color=\"#efefef\")\n",
    "\n",
    "range_tool = RangeTool(x_range=p.x_range)\n",
    "range_tool.overlay.fill_color = \"navy\"\n",
    "range_tool.overlay.fill_alpha = 0.2\n",
    "\n",
    "select.line('date', 'close', source=source)\n",
    "select.ygrid.grid_line_color = None\n",
    "select.add_tools(range_tool)\n",
    "\n",
    "show(column(p, select))"
   ]
  },
  {
   "cell_type": "code",
   "execution_count": null,
   "metadata": {},
   "outputs": [],
   "source": []
  }
 ],
 "metadata": {
  "kernelspec": {
   "display_name": "env-hackathon23_somnolence",
   "language": "python",
   "name": "python3"
  },
  "language_info": {
   "codemirror_mode": {
    "name": "ipython",
    "version": 3
   },
   "file_extension": ".py",
   "mimetype": "text/x-python",
   "name": "python",
   "nbconvert_exporter": "python",
   "pygments_lexer": "ipython3",
   "version": "3.11.3"
  },
  "orig_nbformat": 4
 },
 "nbformat": 4,
 "nbformat_minor": 2
}
